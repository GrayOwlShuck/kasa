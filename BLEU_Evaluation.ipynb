{
  "nbformat": 4,
  "nbformat_minor": 0,
  "metadata": {
    "kernelspec": {
      "display_name": "Python 3",
      "language": "python",
      "name": "python3"
    },
    "language_info": {
      "codemirror_mode": {
        "name": "ipython",
        "version": 3
      },
      "file_extension": ".py",
      "mimetype": "text/x-python",
      "name": "python",
      "nbconvert_exporter": "python",
      "pygments_lexer": "ipython3",
      "version": "3.7.7"
    },
    "colab": {
      "name": "BLEU Evaluation.ipynb",
      "provenance": []
    },
    "widgets": {
      "application/vnd.jupyter.widget-state+json": {
        "9d735745906d459285d58be8fbc98b4f": {
          "model_module": "@jupyter-widgets/controls",
          "model_name": "HBoxModel",
          "state": {
            "_view_name": "HBoxView",
            "_dom_classes": [],
            "_model_name": "HBoxModel",
            "_view_module": "@jupyter-widgets/controls",
            "_model_module_version": "1.5.0",
            "_view_count": null,
            "_view_module_version": "1.5.0",
            "box_style": "",
            "layout": "IPY_MODEL_8e89d1176b4d465891d71d205a676b30",
            "_model_module": "@jupyter-widgets/controls",
            "children": [
              "IPY_MODEL_fbc97b69bad04929af07ec80eb77d4a3",
              "IPY_MODEL_48112926425e442199b9dc97f49437df"
            ]
          }
        },
        "8e89d1176b4d465891d71d205a676b30": {
          "model_module": "@jupyter-widgets/base",
          "model_name": "LayoutModel",
          "state": {
            "_view_name": "LayoutView",
            "grid_template_rows": null,
            "right": null,
            "justify_content": null,
            "_view_module": "@jupyter-widgets/base",
            "overflow": null,
            "_model_module_version": "1.2.0",
            "_view_count": null,
            "flex_flow": null,
            "width": null,
            "min_width": null,
            "border": null,
            "align_items": null,
            "bottom": null,
            "_model_module": "@jupyter-widgets/base",
            "top": null,
            "grid_column": null,
            "overflow_y": null,
            "overflow_x": null,
            "grid_auto_flow": null,
            "grid_area": null,
            "grid_template_columns": null,
            "flex": null,
            "_model_name": "LayoutModel",
            "justify_items": null,
            "grid_row": null,
            "max_height": null,
            "align_content": null,
            "visibility": null,
            "align_self": null,
            "height": null,
            "min_height": null,
            "padding": null,
            "grid_auto_rows": null,
            "grid_gap": null,
            "max_width": null,
            "order": null,
            "_view_module_version": "1.2.0",
            "grid_template_areas": null,
            "object_position": null,
            "object_fit": null,
            "grid_auto_columns": null,
            "margin": null,
            "display": null,
            "left": null
          }
        },
        "fbc97b69bad04929af07ec80eb77d4a3": {
          "model_module": "@jupyter-widgets/controls",
          "model_name": "FloatProgressModel",
          "state": {
            "_view_name": "ProgressView",
            "style": "IPY_MODEL_a6cec221867c492ca470c4486f00bbe4",
            "_dom_classes": [],
            "description": "Downloading: 100%",
            "_model_name": "FloatProgressModel",
            "bar_style": "success",
            "max": 1132,
            "_view_module": "@jupyter-widgets/controls",
            "_model_module_version": "1.5.0",
            "value": 1132,
            "_view_count": null,
            "_view_module_version": "1.5.0",
            "orientation": "horizontal",
            "min": 0,
            "description_tooltip": null,
            "_model_module": "@jupyter-widgets/controls",
            "layout": "IPY_MODEL_f6880081af6740a7bf7e5f0f529e2542"
          }
        },
        "48112926425e442199b9dc97f49437df": {
          "model_module": "@jupyter-widgets/controls",
          "model_name": "HTMLModel",
          "state": {
            "_view_name": "HTMLView",
            "style": "IPY_MODEL_6ee715b3a59444f19c5834db5f3452c3",
            "_dom_classes": [],
            "description": "",
            "_model_name": "HTMLModel",
            "placeholder": "​",
            "_view_module": "@jupyter-widgets/controls",
            "_model_module_version": "1.5.0",
            "value": " 1.13k/1.13k [00:00&lt;00:00, 26.7kB/s]",
            "_view_count": null,
            "_view_module_version": "1.5.0",
            "description_tooltip": null,
            "_model_module": "@jupyter-widgets/controls",
            "layout": "IPY_MODEL_1cd20107bf064da492cc4aba721f69ca"
          }
        },
        "a6cec221867c492ca470c4486f00bbe4": {
          "model_module": "@jupyter-widgets/controls",
          "model_name": "ProgressStyleModel",
          "state": {
            "_view_name": "StyleView",
            "_model_name": "ProgressStyleModel",
            "description_width": "initial",
            "_view_module": "@jupyter-widgets/base",
            "_model_module_version": "1.5.0",
            "_view_count": null,
            "_view_module_version": "1.2.0",
            "bar_color": null,
            "_model_module": "@jupyter-widgets/controls"
          }
        },
        "f6880081af6740a7bf7e5f0f529e2542": {
          "model_module": "@jupyter-widgets/base",
          "model_name": "LayoutModel",
          "state": {
            "_view_name": "LayoutView",
            "grid_template_rows": null,
            "right": null,
            "justify_content": null,
            "_view_module": "@jupyter-widgets/base",
            "overflow": null,
            "_model_module_version": "1.2.0",
            "_view_count": null,
            "flex_flow": null,
            "width": null,
            "min_width": null,
            "border": null,
            "align_items": null,
            "bottom": null,
            "_model_module": "@jupyter-widgets/base",
            "top": null,
            "grid_column": null,
            "overflow_y": null,
            "overflow_x": null,
            "grid_auto_flow": null,
            "grid_area": null,
            "grid_template_columns": null,
            "flex": null,
            "_model_name": "LayoutModel",
            "justify_items": null,
            "grid_row": null,
            "max_height": null,
            "align_content": null,
            "visibility": null,
            "align_self": null,
            "height": null,
            "min_height": null,
            "padding": null,
            "grid_auto_rows": null,
            "grid_gap": null,
            "max_width": null,
            "order": null,
            "_view_module_version": "1.2.0",
            "grid_template_areas": null,
            "object_position": null,
            "object_fit": null,
            "grid_auto_columns": null,
            "margin": null,
            "display": null,
            "left": null
          }
        },
        "6ee715b3a59444f19c5834db5f3452c3": {
          "model_module": "@jupyter-widgets/controls",
          "model_name": "DescriptionStyleModel",
          "state": {
            "_view_name": "StyleView",
            "_model_name": "DescriptionStyleModel",
            "description_width": "",
            "_view_module": "@jupyter-widgets/base",
            "_model_module_version": "1.5.0",
            "_view_count": null,
            "_view_module_version": "1.2.0",
            "_model_module": "@jupyter-widgets/controls"
          }
        },
        "1cd20107bf064da492cc4aba721f69ca": {
          "model_module": "@jupyter-widgets/base",
          "model_name": "LayoutModel",
          "state": {
            "_view_name": "LayoutView",
            "grid_template_rows": null,
            "right": null,
            "justify_content": null,
            "_view_module": "@jupyter-widgets/base",
            "overflow": null,
            "_model_module_version": "1.2.0",
            "_view_count": null,
            "flex_flow": null,
            "width": null,
            "min_width": null,
            "border": null,
            "align_items": null,
            "bottom": null,
            "_model_module": "@jupyter-widgets/base",
            "top": null,
            "grid_column": null,
            "overflow_y": null,
            "overflow_x": null,
            "grid_auto_flow": null,
            "grid_area": null,
            "grid_template_columns": null,
            "flex": null,
            "_model_name": "LayoutModel",
            "justify_items": null,
            "grid_row": null,
            "max_height": null,
            "align_content": null,
            "visibility": null,
            "align_self": null,
            "height": null,
            "min_height": null,
            "padding": null,
            "grid_auto_rows": null,
            "grid_gap": null,
            "max_width": null,
            "order": null,
            "_view_module_version": "1.2.0",
            "grid_template_areas": null,
            "object_position": null,
            "object_fit": null,
            "grid_auto_columns": null,
            "margin": null,
            "display": null,
            "left": null
          }
        },
        "5afec48828f141e687be86e9a79ddc1c": {
          "model_module": "@jupyter-widgets/controls",
          "model_name": "HBoxModel",
          "state": {
            "_view_name": "HBoxView",
            "_dom_classes": [],
            "_model_name": "HBoxModel",
            "_view_module": "@jupyter-widgets/controls",
            "_model_module_version": "1.5.0",
            "_view_count": null,
            "_view_module_version": "1.5.0",
            "box_style": "",
            "layout": "IPY_MODEL_41d5db6acdef46a289f6baabbd1cca8d",
            "_model_module": "@jupyter-widgets/controls",
            "children": [
              "IPY_MODEL_4a5de44a81c0410fac121f80fe0e011b",
              "IPY_MODEL_df3606327473455cba0f8c7190c581d5"
            ]
          }
        },
        "41d5db6acdef46a289f6baabbd1cca8d": {
          "model_module": "@jupyter-widgets/base",
          "model_name": "LayoutModel",
          "state": {
            "_view_name": "LayoutView",
            "grid_template_rows": null,
            "right": null,
            "justify_content": null,
            "_view_module": "@jupyter-widgets/base",
            "overflow": null,
            "_model_module_version": "1.2.0",
            "_view_count": null,
            "flex_flow": null,
            "width": null,
            "min_width": null,
            "border": null,
            "align_items": null,
            "bottom": null,
            "_model_module": "@jupyter-widgets/base",
            "top": null,
            "grid_column": null,
            "overflow_y": null,
            "overflow_x": null,
            "grid_auto_flow": null,
            "grid_area": null,
            "grid_template_columns": null,
            "flex": null,
            "_model_name": "LayoutModel",
            "justify_items": null,
            "grid_row": null,
            "max_height": null,
            "align_content": null,
            "visibility": null,
            "align_self": null,
            "height": null,
            "min_height": null,
            "padding": null,
            "grid_auto_rows": null,
            "grid_gap": null,
            "max_width": null,
            "order": null,
            "_view_module_version": "1.2.0",
            "grid_template_areas": null,
            "object_position": null,
            "object_fit": null,
            "grid_auto_columns": null,
            "margin": null,
            "display": null,
            "left": null
          }
        },
        "4a5de44a81c0410fac121f80fe0e011b": {
          "model_module": "@jupyter-widgets/controls",
          "model_name": "FloatProgressModel",
          "state": {
            "_view_name": "ProgressView",
            "style": "IPY_MODEL_c50d45a9b2e4458e861b47830ce4154a",
            "_dom_classes": [],
            "description": "Downloading: 100%",
            "_model_name": "FloatProgressModel",
            "bar_style": "success",
            "max": 822549,
            "_view_module": "@jupyter-widgets/controls",
            "_model_module_version": "1.5.0",
            "value": 822549,
            "_view_count": null,
            "_view_module_version": "1.5.0",
            "orientation": "horizontal",
            "min": 0,
            "description_tooltip": null,
            "_model_module": "@jupyter-widgets/controls",
            "layout": "IPY_MODEL_f5e121d2e4694314b3af94f88502eb48"
          }
        },
        "df3606327473455cba0f8c7190c581d5": {
          "model_module": "@jupyter-widgets/controls",
          "model_name": "HTMLModel",
          "state": {
            "_view_name": "HTMLView",
            "style": "IPY_MODEL_9a51d0fc388241c6a5ad3b0efcafb072",
            "_dom_classes": [],
            "description": "",
            "_model_name": "HTMLModel",
            "placeholder": "​",
            "_view_module": "@jupyter-widgets/controls",
            "_model_module_version": "1.5.0",
            "value": " 823k/823k [00:00&lt;00:00, 1.57MB/s]",
            "_view_count": null,
            "_view_module_version": "1.5.0",
            "description_tooltip": null,
            "_model_module": "@jupyter-widgets/controls",
            "layout": "IPY_MODEL_056e794c08a443b492fc78dcc075b721"
          }
        },
        "c50d45a9b2e4458e861b47830ce4154a": {
          "model_module": "@jupyter-widgets/controls",
          "model_name": "ProgressStyleModel",
          "state": {
            "_view_name": "StyleView",
            "_model_name": "ProgressStyleModel",
            "description_width": "initial",
            "_view_module": "@jupyter-widgets/base",
            "_model_module_version": "1.5.0",
            "_view_count": null,
            "_view_module_version": "1.2.0",
            "bar_color": null,
            "_model_module": "@jupyter-widgets/controls"
          }
        },
        "f5e121d2e4694314b3af94f88502eb48": {
          "model_module": "@jupyter-widgets/base",
          "model_name": "LayoutModel",
          "state": {
            "_view_name": "LayoutView",
            "grid_template_rows": null,
            "right": null,
            "justify_content": null,
            "_view_module": "@jupyter-widgets/base",
            "overflow": null,
            "_model_module_version": "1.2.0",
            "_view_count": null,
            "flex_flow": null,
            "width": null,
            "min_width": null,
            "border": null,
            "align_items": null,
            "bottom": null,
            "_model_module": "@jupyter-widgets/base",
            "top": null,
            "grid_column": null,
            "overflow_y": null,
            "overflow_x": null,
            "grid_auto_flow": null,
            "grid_area": null,
            "grid_template_columns": null,
            "flex": null,
            "_model_name": "LayoutModel",
            "justify_items": null,
            "grid_row": null,
            "max_height": null,
            "align_content": null,
            "visibility": null,
            "align_self": null,
            "height": null,
            "min_height": null,
            "padding": null,
            "grid_auto_rows": null,
            "grid_gap": null,
            "max_width": null,
            "order": null,
            "_view_module_version": "1.2.0",
            "grid_template_areas": null,
            "object_position": null,
            "object_fit": null,
            "grid_auto_columns": null,
            "margin": null,
            "display": null,
            "left": null
          }
        },
        "9a51d0fc388241c6a5ad3b0efcafb072": {
          "model_module": "@jupyter-widgets/controls",
          "model_name": "DescriptionStyleModel",
          "state": {
            "_view_name": "StyleView",
            "_model_name": "DescriptionStyleModel",
            "description_width": "",
            "_view_module": "@jupyter-widgets/base",
            "_model_module_version": "1.5.0",
            "_view_count": null,
            "_view_module_version": "1.2.0",
            "_model_module": "@jupyter-widgets/controls"
          }
        },
        "056e794c08a443b492fc78dcc075b721": {
          "model_module": "@jupyter-widgets/base",
          "model_name": "LayoutModel",
          "state": {
            "_view_name": "LayoutView",
            "grid_template_rows": null,
            "right": null,
            "justify_content": null,
            "_view_module": "@jupyter-widgets/base",
            "overflow": null,
            "_model_module_version": "1.2.0",
            "_view_count": null,
            "flex_flow": null,
            "width": null,
            "min_width": null,
            "border": null,
            "align_items": null,
            "bottom": null,
            "_model_module": "@jupyter-widgets/base",
            "top": null,
            "grid_column": null,
            "overflow_y": null,
            "overflow_x": null,
            "grid_auto_flow": null,
            "grid_area": null,
            "grid_template_columns": null,
            "flex": null,
            "_model_name": "LayoutModel",
            "justify_items": null,
            "grid_row": null,
            "max_height": null,
            "align_content": null,
            "visibility": null,
            "align_self": null,
            "height": null,
            "min_height": null,
            "padding": null,
            "grid_auto_rows": null,
            "grid_gap": null,
            "max_width": null,
            "order": null,
            "_view_module_version": "1.2.0",
            "grid_template_areas": null,
            "object_position": null,
            "object_fit": null,
            "grid_auto_columns": null,
            "margin": null,
            "display": null,
            "left": null
          }
        },
        "c2365ec0c2494d808819ba2caa2c5e8d": {
          "model_module": "@jupyter-widgets/controls",
          "model_name": "HBoxModel",
          "state": {
            "_view_name": "HBoxView",
            "_dom_classes": [],
            "_model_name": "HBoxModel",
            "_view_module": "@jupyter-widgets/controls",
            "_model_module_version": "1.5.0",
            "_view_count": null,
            "_view_module_version": "1.5.0",
            "box_style": "",
            "layout": "IPY_MODEL_a90dc36b644a43ebaee07f7306045514",
            "_model_module": "@jupyter-widgets/controls",
            "children": [
              "IPY_MODEL_002367691e504e6c9cb1e497fe660b43",
              "IPY_MODEL_e471da63d4184c0ba7d4d2717748066e"
            ]
          }
        },
        "a90dc36b644a43ebaee07f7306045514": {
          "model_module": "@jupyter-widgets/base",
          "model_name": "LayoutModel",
          "state": {
            "_view_name": "LayoutView",
            "grid_template_rows": null,
            "right": null,
            "justify_content": null,
            "_view_module": "@jupyter-widgets/base",
            "overflow": null,
            "_model_module_version": "1.2.0",
            "_view_count": null,
            "flex_flow": null,
            "width": null,
            "min_width": null,
            "border": null,
            "align_items": null,
            "bottom": null,
            "_model_module": "@jupyter-widgets/base",
            "top": null,
            "grid_column": null,
            "overflow_y": null,
            "overflow_x": null,
            "grid_auto_flow": null,
            "grid_area": null,
            "grid_template_columns": null,
            "flex": null,
            "_model_name": "LayoutModel",
            "justify_items": null,
            "grid_row": null,
            "max_height": null,
            "align_content": null,
            "visibility": null,
            "align_self": null,
            "height": null,
            "min_height": null,
            "padding": null,
            "grid_auto_rows": null,
            "grid_gap": null,
            "max_width": null,
            "order": null,
            "_view_module_version": "1.2.0",
            "grid_template_areas": null,
            "object_position": null,
            "object_fit": null,
            "grid_auto_columns": null,
            "margin": null,
            "display": null,
            "left": null
          }
        },
        "002367691e504e6c9cb1e497fe660b43": {
          "model_module": "@jupyter-widgets/controls",
          "model_name": "FloatProgressModel",
          "state": {
            "_view_name": "ProgressView",
            "style": "IPY_MODEL_364b5601414645ec99590205571b57f2",
            "_dom_classes": [],
            "description": "Downloading: 100%",
            "_model_name": "FloatProgressModel",
            "bar_style": "success",
            "max": 788340,
            "_view_module": "@jupyter-widgets/controls",
            "_model_module_version": "1.5.0",
            "value": 788340,
            "_view_count": null,
            "_view_module_version": "1.5.0",
            "orientation": "horizontal",
            "min": 0,
            "description_tooltip": null,
            "_model_module": "@jupyter-widgets/controls",
            "layout": "IPY_MODEL_2abaa1b9cd2a4d7bb9f1121bcca47a99"
          }
        },
        "e471da63d4184c0ba7d4d2717748066e": {
          "model_module": "@jupyter-widgets/controls",
          "model_name": "HTMLModel",
          "state": {
            "_view_name": "HTMLView",
            "style": "IPY_MODEL_8e02cfe338c74569b9b96082e365c7e2",
            "_dom_classes": [],
            "description": "",
            "_model_name": "HTMLModel",
            "placeholder": "​",
            "_view_module": "@jupyter-widgets/controls",
            "_model_module_version": "1.5.0",
            "value": " 788k/788k [00:00&lt;00:00, 2.84MB/s]",
            "_view_count": null,
            "_view_module_version": "1.5.0",
            "description_tooltip": null,
            "_model_module": "@jupyter-widgets/controls",
            "layout": "IPY_MODEL_37df1c7002a341deb808d584404a8710"
          }
        },
        "364b5601414645ec99590205571b57f2": {
          "model_module": "@jupyter-widgets/controls",
          "model_name": "ProgressStyleModel",
          "state": {
            "_view_name": "StyleView",
            "_model_name": "ProgressStyleModel",
            "description_width": "initial",
            "_view_module": "@jupyter-widgets/base",
            "_model_module_version": "1.5.0",
            "_view_count": null,
            "_view_module_version": "1.2.0",
            "bar_color": null,
            "_model_module": "@jupyter-widgets/controls"
          }
        },
        "2abaa1b9cd2a4d7bb9f1121bcca47a99": {
          "model_module": "@jupyter-widgets/base",
          "model_name": "LayoutModel",
          "state": {
            "_view_name": "LayoutView",
            "grid_template_rows": null,
            "right": null,
            "justify_content": null,
            "_view_module": "@jupyter-widgets/base",
            "overflow": null,
            "_model_module_version": "1.2.0",
            "_view_count": null,
            "flex_flow": null,
            "width": null,
            "min_width": null,
            "border": null,
            "align_items": null,
            "bottom": null,
            "_model_module": "@jupyter-widgets/base",
            "top": null,
            "grid_column": null,
            "overflow_y": null,
            "overflow_x": null,
            "grid_auto_flow": null,
            "grid_area": null,
            "grid_template_columns": null,
            "flex": null,
            "_model_name": "LayoutModel",
            "justify_items": null,
            "grid_row": null,
            "max_height": null,
            "align_content": null,
            "visibility": null,
            "align_self": null,
            "height": null,
            "min_height": null,
            "padding": null,
            "grid_auto_rows": null,
            "grid_gap": null,
            "max_width": null,
            "order": null,
            "_view_module_version": "1.2.0",
            "grid_template_areas": null,
            "object_position": null,
            "object_fit": null,
            "grid_auto_columns": null,
            "margin": null,
            "display": null,
            "left": null
          }
        },
        "8e02cfe338c74569b9b96082e365c7e2": {
          "model_module": "@jupyter-widgets/controls",
          "model_name": "DescriptionStyleModel",
          "state": {
            "_view_name": "StyleView",
            "_model_name": "DescriptionStyleModel",
            "description_width": "",
            "_view_module": "@jupyter-widgets/base",
            "_model_module_version": "1.5.0",
            "_view_count": null,
            "_view_module_version": "1.2.0",
            "_model_module": "@jupyter-widgets/controls"
          }
        },
        "37df1c7002a341deb808d584404a8710": {
          "model_module": "@jupyter-widgets/base",
          "model_name": "LayoutModel",
          "state": {
            "_view_name": "LayoutView",
            "grid_template_rows": null,
            "right": null,
            "justify_content": null,
            "_view_module": "@jupyter-widgets/base",
            "overflow": null,
            "_model_module_version": "1.2.0",
            "_view_count": null,
            "flex_flow": null,
            "width": null,
            "min_width": null,
            "border": null,
            "align_items": null,
            "bottom": null,
            "_model_module": "@jupyter-widgets/base",
            "top": null,
            "grid_column": null,
            "overflow_y": null,
            "overflow_x": null,
            "grid_auto_flow": null,
            "grid_area": null,
            "grid_template_columns": null,
            "flex": null,
            "_model_name": "LayoutModel",
            "justify_items": null,
            "grid_row": null,
            "max_height": null,
            "align_content": null,
            "visibility": null,
            "align_self": null,
            "height": null,
            "min_height": null,
            "padding": null,
            "grid_auto_rows": null,
            "grid_gap": null,
            "max_width": null,
            "order": null,
            "_view_module_version": "1.2.0",
            "grid_template_areas": null,
            "object_position": null,
            "object_fit": null,
            "grid_auto_columns": null,
            "margin": null,
            "display": null,
            "left": null
          }
        },
        "8a115f87bf1244a18b10a311449a7add": {
          "model_module": "@jupyter-widgets/controls",
          "model_name": "HBoxModel",
          "state": {
            "_view_name": "HBoxView",
            "_dom_classes": [],
            "_model_name": "HBoxModel",
            "_view_module": "@jupyter-widgets/controls",
            "_model_module_version": "1.5.0",
            "_view_count": null,
            "_view_module_version": "1.5.0",
            "box_style": "",
            "layout": "IPY_MODEL_1c10f9d5560c4240a0b02cc2110ca65e",
            "_model_module": "@jupyter-widgets/controls",
            "children": [
              "IPY_MODEL_6986c7a6570241abac0b6fc83caf2a20",
              "IPY_MODEL_b44eed7fe6a04c359cefd71b2c59548f"
            ]
          }
        },
        "1c10f9d5560c4240a0b02cc2110ca65e": {
          "model_module": "@jupyter-widgets/base",
          "model_name": "LayoutModel",
          "state": {
            "_view_name": "LayoutView",
            "grid_template_rows": null,
            "right": null,
            "justify_content": null,
            "_view_module": "@jupyter-widgets/base",
            "overflow": null,
            "_model_module_version": "1.2.0",
            "_view_count": null,
            "flex_flow": null,
            "width": null,
            "min_width": null,
            "border": null,
            "align_items": null,
            "bottom": null,
            "_model_module": "@jupyter-widgets/base",
            "top": null,
            "grid_column": null,
            "overflow_y": null,
            "overflow_x": null,
            "grid_auto_flow": null,
            "grid_area": null,
            "grid_template_columns": null,
            "flex": null,
            "_model_name": "LayoutModel",
            "justify_items": null,
            "grid_row": null,
            "max_height": null,
            "align_content": null,
            "visibility": null,
            "align_self": null,
            "height": null,
            "min_height": null,
            "padding": null,
            "grid_auto_rows": null,
            "grid_gap": null,
            "max_width": null,
            "order": null,
            "_view_module_version": "1.2.0",
            "grid_template_areas": null,
            "object_position": null,
            "object_fit": null,
            "grid_auto_columns": null,
            "margin": null,
            "display": null,
            "left": null
          }
        },
        "6986c7a6570241abac0b6fc83caf2a20": {
          "model_module": "@jupyter-widgets/controls",
          "model_name": "FloatProgressModel",
          "state": {
            "_view_name": "ProgressView",
            "style": "IPY_MODEL_7b1e5d1be8174e39b55dde4333289f7b",
            "_dom_classes": [],
            "description": "Downloading: 100%",
            "_model_name": "FloatProgressModel",
            "bar_style": "success",
            "max": 1305726,
            "_view_module": "@jupyter-widgets/controls",
            "_model_module_version": "1.5.0",
            "value": 1305726,
            "_view_count": null,
            "_view_module_version": "1.5.0",
            "orientation": "horizontal",
            "min": 0,
            "description_tooltip": null,
            "_model_module": "@jupyter-widgets/controls",
            "layout": "IPY_MODEL_6ff7271e7f924748a06662f3cd37250c"
          }
        },
        "b44eed7fe6a04c359cefd71b2c59548f": {
          "model_module": "@jupyter-widgets/controls",
          "model_name": "HTMLModel",
          "state": {
            "_view_name": "HTMLView",
            "style": "IPY_MODEL_531886b4a7504238a17330f71e24ad44",
            "_dom_classes": [],
            "description": "",
            "_model_name": "HTMLModel",
            "placeholder": "​",
            "_view_module": "@jupyter-widgets/controls",
            "_model_module_version": "1.5.0",
            "value": " 1.31M/1.31M [00:15&lt;00:00, 81.9kB/s]",
            "_view_count": null,
            "_view_module_version": "1.5.0",
            "description_tooltip": null,
            "_model_module": "@jupyter-widgets/controls",
            "layout": "IPY_MODEL_7a747a1351ee45afa1923f815f779a1d"
          }
        },
        "7b1e5d1be8174e39b55dde4333289f7b": {
          "model_module": "@jupyter-widgets/controls",
          "model_name": "ProgressStyleModel",
          "state": {
            "_view_name": "StyleView",
            "_model_name": "ProgressStyleModel",
            "description_width": "initial",
            "_view_module": "@jupyter-widgets/base",
            "_model_module_version": "1.5.0",
            "_view_count": null,
            "_view_module_version": "1.2.0",
            "bar_color": null,
            "_model_module": "@jupyter-widgets/controls"
          }
        },
        "6ff7271e7f924748a06662f3cd37250c": {
          "model_module": "@jupyter-widgets/base",
          "model_name": "LayoutModel",
          "state": {
            "_view_name": "LayoutView",
            "grid_template_rows": null,
            "right": null,
            "justify_content": null,
            "_view_module": "@jupyter-widgets/base",
            "overflow": null,
            "_model_module_version": "1.2.0",
            "_view_count": null,
            "flex_flow": null,
            "width": null,
            "min_width": null,
            "border": null,
            "align_items": null,
            "bottom": null,
            "_model_module": "@jupyter-widgets/base",
            "top": null,
            "grid_column": null,
            "overflow_y": null,
            "overflow_x": null,
            "grid_auto_flow": null,
            "grid_area": null,
            "grid_template_columns": null,
            "flex": null,
            "_model_name": "LayoutModel",
            "justify_items": null,
            "grid_row": null,
            "max_height": null,
            "align_content": null,
            "visibility": null,
            "align_self": null,
            "height": null,
            "min_height": null,
            "padding": null,
            "grid_auto_rows": null,
            "grid_gap": null,
            "max_width": null,
            "order": null,
            "_view_module_version": "1.2.0",
            "grid_template_areas": null,
            "object_position": null,
            "object_fit": null,
            "grid_auto_columns": null,
            "margin": null,
            "display": null,
            "left": null
          }
        },
        "531886b4a7504238a17330f71e24ad44": {
          "model_module": "@jupyter-widgets/controls",
          "model_name": "DescriptionStyleModel",
          "state": {
            "_view_name": "StyleView",
            "_model_name": "DescriptionStyleModel",
            "description_width": "",
            "_view_module": "@jupyter-widgets/base",
            "_model_module_version": "1.5.0",
            "_view_count": null,
            "_view_module_version": "1.2.0",
            "_model_module": "@jupyter-widgets/controls"
          }
        },
        "7a747a1351ee45afa1923f815f779a1d": {
          "model_module": "@jupyter-widgets/base",
          "model_name": "LayoutModel",
          "state": {
            "_view_name": "LayoutView",
            "grid_template_rows": null,
            "right": null,
            "justify_content": null,
            "_view_module": "@jupyter-widgets/base",
            "overflow": null,
            "_model_module_version": "1.2.0",
            "_view_count": null,
            "flex_flow": null,
            "width": null,
            "min_width": null,
            "border": null,
            "align_items": null,
            "bottom": null,
            "_model_module": "@jupyter-widgets/base",
            "top": null,
            "grid_column": null,
            "overflow_y": null,
            "overflow_x": null,
            "grid_auto_flow": null,
            "grid_area": null,
            "grid_template_columns": null,
            "flex": null,
            "_model_name": "LayoutModel",
            "justify_items": null,
            "grid_row": null,
            "max_height": null,
            "align_content": null,
            "visibility": null,
            "align_self": null,
            "height": null,
            "min_height": null,
            "padding": null,
            "grid_auto_rows": null,
            "grid_gap": null,
            "max_width": null,
            "order": null,
            "_view_module_version": "1.2.0",
            "grid_template_areas": null,
            "object_position": null,
            "object_fit": null,
            "grid_auto_columns": null,
            "margin": null,
            "display": null,
            "left": null
          }
        },
        "04fa1c1ad4b64287ac18c5f17d919aa3": {
          "model_module": "@jupyter-widgets/controls",
          "model_name": "HBoxModel",
          "state": {
            "_view_name": "HBoxView",
            "_dom_classes": [],
            "_model_name": "HBoxModel",
            "_view_module": "@jupyter-widgets/controls",
            "_model_module_version": "1.5.0",
            "_view_count": null,
            "_view_module_version": "1.5.0",
            "box_style": "",
            "layout": "IPY_MODEL_7d0d779835b840c5997a1884fe412ff7",
            "_model_module": "@jupyter-widgets/controls",
            "children": [
              "IPY_MODEL_d2afa823eede4eff901e52f5d7168b24",
              "IPY_MODEL_b549ba3bf7ae490c83745d5d2f6cd0b1"
            ]
          }
        },
        "7d0d779835b840c5997a1884fe412ff7": {
          "model_module": "@jupyter-widgets/base",
          "model_name": "LayoutModel",
          "state": {
            "_view_name": "LayoutView",
            "grid_template_rows": null,
            "right": null,
            "justify_content": null,
            "_view_module": "@jupyter-widgets/base",
            "overflow": null,
            "_model_module_version": "1.2.0",
            "_view_count": null,
            "flex_flow": null,
            "width": null,
            "min_width": null,
            "border": null,
            "align_items": null,
            "bottom": null,
            "_model_module": "@jupyter-widgets/base",
            "top": null,
            "grid_column": null,
            "overflow_y": null,
            "overflow_x": null,
            "grid_auto_flow": null,
            "grid_area": null,
            "grid_template_columns": null,
            "flex": null,
            "_model_name": "LayoutModel",
            "justify_items": null,
            "grid_row": null,
            "max_height": null,
            "align_content": null,
            "visibility": null,
            "align_self": null,
            "height": null,
            "min_height": null,
            "padding": null,
            "grid_auto_rows": null,
            "grid_gap": null,
            "max_width": null,
            "order": null,
            "_view_module_version": "1.2.0",
            "grid_template_areas": null,
            "object_position": null,
            "object_fit": null,
            "grid_auto_columns": null,
            "margin": null,
            "display": null,
            "left": null
          }
        },
        "d2afa823eede4eff901e52f5d7168b24": {
          "model_module": "@jupyter-widgets/controls",
          "model_name": "FloatProgressModel",
          "state": {
            "_view_name": "ProgressView",
            "style": "IPY_MODEL_e3aa2bb3589b43d4b1b2dd1dd38deced",
            "_dom_classes": [],
            "description": "Downloading: 100%",
            "_model_name": "FloatProgressModel",
            "bar_style": "success",
            "max": 42,
            "_view_module": "@jupyter-widgets/controls",
            "_model_module_version": "1.5.0",
            "value": 42,
            "_view_count": null,
            "_view_module_version": "1.5.0",
            "orientation": "horizontal",
            "min": 0,
            "description_tooltip": null,
            "_model_module": "@jupyter-widgets/controls",
            "layout": "IPY_MODEL_96f60c6e096b4119928fe54a925e5970"
          }
        },
        "b549ba3bf7ae490c83745d5d2f6cd0b1": {
          "model_module": "@jupyter-widgets/controls",
          "model_name": "HTMLModel",
          "state": {
            "_view_name": "HTMLView",
            "style": "IPY_MODEL_ae69ab5d868e4fde84cba868081f3461",
            "_dom_classes": [],
            "description": "",
            "_model_name": "HTMLModel",
            "placeholder": "​",
            "_view_module": "@jupyter-widgets/controls",
            "_model_module_version": "1.5.0",
            "value": " 42.0/42.0 [00:01&lt;00:00, 40.5B/s]",
            "_view_count": null,
            "_view_module_version": "1.5.0",
            "description_tooltip": null,
            "_model_module": "@jupyter-widgets/controls",
            "layout": "IPY_MODEL_ababdb4cd6694aef94110616a89bc9e2"
          }
        },
        "e3aa2bb3589b43d4b1b2dd1dd38deced": {
          "model_module": "@jupyter-widgets/controls",
          "model_name": "ProgressStyleModel",
          "state": {
            "_view_name": "StyleView",
            "_model_name": "ProgressStyleModel",
            "description_width": "initial",
            "_view_module": "@jupyter-widgets/base",
            "_model_module_version": "1.5.0",
            "_view_count": null,
            "_view_module_version": "1.2.0",
            "bar_color": null,
            "_model_module": "@jupyter-widgets/controls"
          }
        },
        "96f60c6e096b4119928fe54a925e5970": {
          "model_module": "@jupyter-widgets/base",
          "model_name": "LayoutModel",
          "state": {
            "_view_name": "LayoutView",
            "grid_template_rows": null,
            "right": null,
            "justify_content": null,
            "_view_module": "@jupyter-widgets/base",
            "overflow": null,
            "_model_module_version": "1.2.0",
            "_view_count": null,
            "flex_flow": null,
            "width": null,
            "min_width": null,
            "border": null,
            "align_items": null,
            "bottom": null,
            "_model_module": "@jupyter-widgets/base",
            "top": null,
            "grid_column": null,
            "overflow_y": null,
            "overflow_x": null,
            "grid_auto_flow": null,
            "grid_area": null,
            "grid_template_columns": null,
            "flex": null,
            "_model_name": "LayoutModel",
            "justify_items": null,
            "grid_row": null,
            "max_height": null,
            "align_content": null,
            "visibility": null,
            "align_self": null,
            "height": null,
            "min_height": null,
            "padding": null,
            "grid_auto_rows": null,
            "grid_gap": null,
            "max_width": null,
            "order": null,
            "_view_module_version": "1.2.0",
            "grid_template_areas": null,
            "object_position": null,
            "object_fit": null,
            "grid_auto_columns": null,
            "margin": null,
            "display": null,
            "left": null
          }
        },
        "ae69ab5d868e4fde84cba868081f3461": {
          "model_module": "@jupyter-widgets/controls",
          "model_name": "DescriptionStyleModel",
          "state": {
            "_view_name": "StyleView",
            "_model_name": "DescriptionStyleModel",
            "description_width": "",
            "_view_module": "@jupyter-widgets/base",
            "_model_module_version": "1.5.0",
            "_view_count": null,
            "_view_module_version": "1.2.0",
            "_model_module": "@jupyter-widgets/controls"
          }
        },
        "ababdb4cd6694aef94110616a89bc9e2": {
          "model_module": "@jupyter-widgets/base",
          "model_name": "LayoutModel",
          "state": {
            "_view_name": "LayoutView",
            "grid_template_rows": null,
            "right": null,
            "justify_content": null,
            "_view_module": "@jupyter-widgets/base",
            "overflow": null,
            "_model_module_version": "1.2.0",
            "_view_count": null,
            "flex_flow": null,
            "width": null,
            "min_width": null,
            "border": null,
            "align_items": null,
            "bottom": null,
            "_model_module": "@jupyter-widgets/base",
            "top": null,
            "grid_column": null,
            "overflow_y": null,
            "overflow_x": null,
            "grid_auto_flow": null,
            "grid_area": null,
            "grid_template_columns": null,
            "flex": null,
            "_model_name": "LayoutModel",
            "justify_items": null,
            "grid_row": null,
            "max_height": null,
            "align_content": null,
            "visibility": null,
            "align_self": null,
            "height": null,
            "min_height": null,
            "padding": null,
            "grid_auto_rows": null,
            "grid_gap": null,
            "max_width": null,
            "order": null,
            "_view_module_version": "1.2.0",
            "grid_template_areas": null,
            "object_position": null,
            "object_fit": null,
            "grid_auto_columns": null,
            "margin": null,
            "display": null,
            "left": null
          }
        },
        "1d1c4a0ad09b472c8c197199d367170d": {
          "model_module": "@jupyter-widgets/controls",
          "model_name": "HBoxModel",
          "state": {
            "_view_name": "HBoxView",
            "_dom_classes": [],
            "_model_name": "HBoxModel",
            "_view_module": "@jupyter-widgets/controls",
            "_model_module_version": "1.5.0",
            "_view_count": null,
            "_view_module_version": "1.5.0",
            "box_style": "",
            "layout": "IPY_MODEL_0e0b0ad3d17c4d1dae93a964af4bf3b9",
            "_model_module": "@jupyter-widgets/controls",
            "children": [
              "IPY_MODEL_8687eabdc9444374bfec10bd8d6e03e2",
              "IPY_MODEL_5f05efbcceb14688b801d06634cbee51"
            ]
          }
        },
        "0e0b0ad3d17c4d1dae93a964af4bf3b9": {
          "model_module": "@jupyter-widgets/base",
          "model_name": "LayoutModel",
          "state": {
            "_view_name": "LayoutView",
            "grid_template_rows": null,
            "right": null,
            "justify_content": null,
            "_view_module": "@jupyter-widgets/base",
            "overflow": null,
            "_model_module_version": "1.2.0",
            "_view_count": null,
            "flex_flow": null,
            "width": null,
            "min_width": null,
            "border": null,
            "align_items": null,
            "bottom": null,
            "_model_module": "@jupyter-widgets/base",
            "top": null,
            "grid_column": null,
            "overflow_y": null,
            "overflow_x": null,
            "grid_auto_flow": null,
            "grid_area": null,
            "grid_template_columns": null,
            "flex": null,
            "_model_name": "LayoutModel",
            "justify_items": null,
            "grid_row": null,
            "max_height": null,
            "align_content": null,
            "visibility": null,
            "align_self": null,
            "height": null,
            "min_height": null,
            "padding": null,
            "grid_auto_rows": null,
            "grid_gap": null,
            "max_width": null,
            "order": null,
            "_view_module_version": "1.2.0",
            "grid_template_areas": null,
            "object_position": null,
            "object_fit": null,
            "grid_auto_columns": null,
            "margin": null,
            "display": null,
            "left": null
          }
        },
        "8687eabdc9444374bfec10bd8d6e03e2": {
          "model_module": "@jupyter-widgets/controls",
          "model_name": "FloatProgressModel",
          "state": {
            "_view_name": "ProgressView",
            "style": "IPY_MODEL_267d68d1489a4f45aee271b0e779e9ff",
            "_dom_classes": [],
            "description": "Downloading: 100%",
            "_model_name": "FloatProgressModel",
            "bar_style": "success",
            "max": 295668957,
            "_view_module": "@jupyter-widgets/controls",
            "_model_module_version": "1.5.0",
            "value": 295668957,
            "_view_count": null,
            "_view_module_version": "1.5.0",
            "orientation": "horizontal",
            "min": 0,
            "description_tooltip": null,
            "_model_module": "@jupyter-widgets/controls",
            "layout": "IPY_MODEL_88983491ff4641bd8cd106a5c9c3c002"
          }
        },
        "5f05efbcceb14688b801d06634cbee51": {
          "model_module": "@jupyter-widgets/controls",
          "model_name": "HTMLModel",
          "state": {
            "_view_name": "HTMLView",
            "style": "IPY_MODEL_a89f46b298804f309d3dc863566025e6",
            "_dom_classes": [],
            "description": "",
            "_model_name": "HTMLModel",
            "placeholder": "​",
            "_view_module": "@jupyter-widgets/controls",
            "_model_module_version": "1.5.0",
            "value": " 296M/296M [00:13&lt;00:00, 21.7MB/s]",
            "_view_count": null,
            "_view_module_version": "1.5.0",
            "description_tooltip": null,
            "_model_module": "@jupyter-widgets/controls",
            "layout": "IPY_MODEL_b39953617a4a4b69bf1a85b875587b93"
          }
        },
        "267d68d1489a4f45aee271b0e779e9ff": {
          "model_module": "@jupyter-widgets/controls",
          "model_name": "ProgressStyleModel",
          "state": {
            "_view_name": "StyleView",
            "_model_name": "ProgressStyleModel",
            "description_width": "initial",
            "_view_module": "@jupyter-widgets/base",
            "_model_module_version": "1.5.0",
            "_view_count": null,
            "_view_module_version": "1.2.0",
            "bar_color": null,
            "_model_module": "@jupyter-widgets/controls"
          }
        },
        "88983491ff4641bd8cd106a5c9c3c002": {
          "model_module": "@jupyter-widgets/base",
          "model_name": "LayoutModel",
          "state": {
            "_view_name": "LayoutView",
            "grid_template_rows": null,
            "right": null,
            "justify_content": null,
            "_view_module": "@jupyter-widgets/base",
            "overflow": null,
            "_model_module_version": "1.2.0",
            "_view_count": null,
            "flex_flow": null,
            "width": null,
            "min_width": null,
            "border": null,
            "align_items": null,
            "bottom": null,
            "_model_module": "@jupyter-widgets/base",
            "top": null,
            "grid_column": null,
            "overflow_y": null,
            "overflow_x": null,
            "grid_auto_flow": null,
            "grid_area": null,
            "grid_template_columns": null,
            "flex": null,
            "_model_name": "LayoutModel",
            "justify_items": null,
            "grid_row": null,
            "max_height": null,
            "align_content": null,
            "visibility": null,
            "align_self": null,
            "height": null,
            "min_height": null,
            "padding": null,
            "grid_auto_rows": null,
            "grid_gap": null,
            "max_width": null,
            "order": null,
            "_view_module_version": "1.2.0",
            "grid_template_areas": null,
            "object_position": null,
            "object_fit": null,
            "grid_auto_columns": null,
            "margin": null,
            "display": null,
            "left": null
          }
        },
        "a89f46b298804f309d3dc863566025e6": {
          "model_module": "@jupyter-widgets/controls",
          "model_name": "DescriptionStyleModel",
          "state": {
            "_view_name": "StyleView",
            "_model_name": "DescriptionStyleModel",
            "description_width": "",
            "_view_module": "@jupyter-widgets/base",
            "_model_module_version": "1.5.0",
            "_view_count": null,
            "_view_module_version": "1.2.0",
            "_model_module": "@jupyter-widgets/controls"
          }
        },
        "b39953617a4a4b69bf1a85b875587b93": {
          "model_module": "@jupyter-widgets/base",
          "model_name": "LayoutModel",
          "state": {
            "_view_name": "LayoutView",
            "grid_template_rows": null,
            "right": null,
            "justify_content": null,
            "_view_module": "@jupyter-widgets/base",
            "overflow": null,
            "_model_module_version": "1.2.0",
            "_view_count": null,
            "flex_flow": null,
            "width": null,
            "min_width": null,
            "border": null,
            "align_items": null,
            "bottom": null,
            "_model_module": "@jupyter-widgets/base",
            "top": null,
            "grid_column": null,
            "overflow_y": null,
            "overflow_x": null,
            "grid_auto_flow": null,
            "grid_area": null,
            "grid_template_columns": null,
            "flex": null,
            "_model_name": "LayoutModel",
            "justify_items": null,
            "grid_row": null,
            "max_height": null,
            "align_content": null,
            "visibility": null,
            "align_self": null,
            "height": null,
            "min_height": null,
            "padding": null,
            "grid_auto_rows": null,
            "grid_gap": null,
            "max_width": null,
            "order": null,
            "_view_module_version": "1.2.0",
            "grid_template_areas": null,
            "object_position": null,
            "object_fit": null,
            "grid_auto_columns": null,
            "margin": null,
            "display": null,
            "left": null
          }
        }
      }
    }
  },
  "cells": [
    {
      "cell_type": "code",
      "metadata": {
        "colab": {
          "base_uri": "https://localhost:8080/"
        },
        "id": "Yr7_xzPVAeCy",
        "outputId": "130e37dd-808e-4a94-8bc4-d90c2991e55d"
      },
      "source": [
        "from google.colab import drive\n",
        "drive.mount('/content/drive')"
      ],
      "execution_count": null,
      "outputs": [
        {
          "output_type": "stream",
          "text": [
            "Mounted at /content/drive\n"
          ],
          "name": "stdout"
        }
      ]
    },
    {
      "cell_type": "code",
      "metadata": {
        "id": "ixVRbTw9lbyx",
        "colab": {
          "base_uri": "https://localhost:8080/"
        },
        "outputId": "16706fc1-9dd5-4bd8-ed26-501daf69d91f"
      },
      "source": [
        "!pip install sentencepiece\r\n",
        "!pip install torch\r\n",
        "!pip install transformers\r\n"
      ],
      "execution_count": null,
      "outputs": [
        {
          "output_type": "stream",
          "text": [
            "Collecting sentencepiece\n",
            "\u001b[?25l  Downloading https://files.pythonhosted.org/packages/14/67/e42bd1181472c95c8cda79305df848264f2a7f62740995a46945d9797b67/sentencepiece-0.1.95-cp36-cp36m-manylinux2014_x86_64.whl (1.2MB)\n",
            "\r\u001b[K     |▎                               | 10kB 16.5MB/s eta 0:00:01\r\u001b[K     |▌                               | 20kB 10.6MB/s eta 0:00:01\r\u001b[K     |▉                               | 30kB 8.4MB/s eta 0:00:01\r\u001b[K     |█                               | 40kB 7.0MB/s eta 0:00:01\r\u001b[K     |█▍                              | 51kB 4.3MB/s eta 0:00:01\r\u001b[K     |█▋                              | 61kB 4.4MB/s eta 0:00:01\r\u001b[K     |██                              | 71kB 4.9MB/s eta 0:00:01\r\u001b[K     |██▏                             | 81kB 5.0MB/s eta 0:00:01\r\u001b[K     |██▌                             | 92kB 5.3MB/s eta 0:00:01\r\u001b[K     |██▊                             | 102kB 5.6MB/s eta 0:00:01\r\u001b[K     |███                             | 112kB 5.6MB/s eta 0:00:01\r\u001b[K     |███▎                            | 122kB 5.6MB/s eta 0:00:01\r\u001b[K     |███▌                            | 133kB 5.6MB/s eta 0:00:01\r\u001b[K     |███▉                            | 143kB 5.6MB/s eta 0:00:01\r\u001b[K     |████                            | 153kB 5.6MB/s eta 0:00:01\r\u001b[K     |████▍                           | 163kB 5.6MB/s eta 0:00:01\r\u001b[K     |████▋                           | 174kB 5.6MB/s eta 0:00:01\r\u001b[K     |█████                           | 184kB 5.6MB/s eta 0:00:01\r\u001b[K     |█████▏                          | 194kB 5.6MB/s eta 0:00:01\r\u001b[K     |█████▌                          | 204kB 5.6MB/s eta 0:00:01\r\u001b[K     |█████▊                          | 215kB 5.6MB/s eta 0:00:01\r\u001b[K     |██████                          | 225kB 5.6MB/s eta 0:00:01\r\u001b[K     |██████▎                         | 235kB 5.6MB/s eta 0:00:01\r\u001b[K     |██████▌                         | 245kB 5.6MB/s eta 0:00:01\r\u001b[K     |██████▉                         | 256kB 5.6MB/s eta 0:00:01\r\u001b[K     |███████                         | 266kB 5.6MB/s eta 0:00:01\r\u001b[K     |███████▍                        | 276kB 5.6MB/s eta 0:00:01\r\u001b[K     |███████▋                        | 286kB 5.6MB/s eta 0:00:01\r\u001b[K     |████████                        | 296kB 5.6MB/s eta 0:00:01\r\u001b[K     |████████▏                       | 307kB 5.6MB/s eta 0:00:01\r\u001b[K     |████████▍                       | 317kB 5.6MB/s eta 0:00:01\r\u001b[K     |████████▊                       | 327kB 5.6MB/s eta 0:00:01\r\u001b[K     |█████████                       | 337kB 5.6MB/s eta 0:00:01\r\u001b[K     |█████████▎                      | 348kB 5.6MB/s eta 0:00:01\r\u001b[K     |█████████▌                      | 358kB 5.6MB/s eta 0:00:01\r\u001b[K     |█████████▉                      | 368kB 5.6MB/s eta 0:00:01\r\u001b[K     |██████████                      | 378kB 5.6MB/s eta 0:00:01\r\u001b[K     |██████████▍                     | 389kB 5.6MB/s eta 0:00:01\r\u001b[K     |██████████▋                     | 399kB 5.6MB/s eta 0:00:01\r\u001b[K     |███████████                     | 409kB 5.6MB/s eta 0:00:01\r\u001b[K     |███████████▏                    | 419kB 5.6MB/s eta 0:00:01\r\u001b[K     |███████████▍                    | 430kB 5.6MB/s eta 0:00:01\r\u001b[K     |███████████▊                    | 440kB 5.6MB/s eta 0:00:01\r\u001b[K     |████████████                    | 450kB 5.6MB/s eta 0:00:01\r\u001b[K     |████████████▎                   | 460kB 5.6MB/s eta 0:00:01\r\u001b[K     |████████████▌                   | 471kB 5.6MB/s eta 0:00:01\r\u001b[K     |████████████▉                   | 481kB 5.6MB/s eta 0:00:01\r\u001b[K     |█████████████                   | 491kB 5.6MB/s eta 0:00:01\r\u001b[K     |█████████████▍                  | 501kB 5.6MB/s eta 0:00:01\r\u001b[K     |█████████████▋                  | 512kB 5.6MB/s eta 0:00:01\r\u001b[K     |█████████████▉                  | 522kB 5.6MB/s eta 0:00:01\r\u001b[K     |██████████████▏                 | 532kB 5.6MB/s eta 0:00:01\r\u001b[K     |██████████████▍                 | 542kB 5.6MB/s eta 0:00:01\r\u001b[K     |██████████████▊                 | 552kB 5.6MB/s eta 0:00:01\r\u001b[K     |███████████████                 | 563kB 5.6MB/s eta 0:00:01\r\u001b[K     |███████████████▎                | 573kB 5.6MB/s eta 0:00:01\r\u001b[K     |███████████████▌                | 583kB 5.6MB/s eta 0:00:01\r\u001b[K     |███████████████▉                | 593kB 5.6MB/s eta 0:00:01\r\u001b[K     |████████████████                | 604kB 5.6MB/s eta 0:00:01\r\u001b[K     |████████████████▍               | 614kB 5.6MB/s eta 0:00:01\r\u001b[K     |████████████████▋               | 624kB 5.6MB/s eta 0:00:01\r\u001b[K     |████████████████▉               | 634kB 5.6MB/s eta 0:00:01\r\u001b[K     |█████████████████▏              | 645kB 5.6MB/s eta 0:00:01\r\u001b[K     |█████████████████▍              | 655kB 5.6MB/s eta 0:00:01\r\u001b[K     |█████████████████▊              | 665kB 5.6MB/s eta 0:00:01\r\u001b[K     |██████████████████              | 675kB 5.6MB/s eta 0:00:01\r\u001b[K     |██████████████████▎             | 686kB 5.6MB/s eta 0:00:01\r\u001b[K     |██████████████████▌             | 696kB 5.6MB/s eta 0:00:01\r\u001b[K     |██████████████████▉             | 706kB 5.6MB/s eta 0:00:01\r\u001b[K     |███████████████████             | 716kB 5.6MB/s eta 0:00:01\r\u001b[K     |███████████████████▎            | 727kB 5.6MB/s eta 0:00:01\r\u001b[K     |███████████████████▋            | 737kB 5.6MB/s eta 0:00:01\r\u001b[K     |███████████████████▉            | 747kB 5.6MB/s eta 0:00:01\r\u001b[K     |████████████████████▏           | 757kB 5.6MB/s eta 0:00:01\r\u001b[K     |████████████████████▍           | 768kB 5.6MB/s eta 0:00:01\r\u001b[K     |████████████████████▊           | 778kB 5.6MB/s eta 0:00:01\r\u001b[K     |█████████████████████           | 788kB 5.6MB/s eta 0:00:01\r\u001b[K     |█████████████████████▎          | 798kB 5.6MB/s eta 0:00:01\r\u001b[K     |█████████████████████▌          | 808kB 5.6MB/s eta 0:00:01\r\u001b[K     |█████████████████████▉          | 819kB 5.6MB/s eta 0:00:01\r\u001b[K     |██████████████████████          | 829kB 5.6MB/s eta 0:00:01\r\u001b[K     |██████████████████████▎         | 839kB 5.6MB/s eta 0:00:01\r\u001b[K     |██████████████████████▋         | 849kB 5.6MB/s eta 0:00:01\r\u001b[K     |██████████████████████▉         | 860kB 5.6MB/s eta 0:00:01\r\u001b[K     |███████████████████████▏        | 870kB 5.6MB/s eta 0:00:01\r\u001b[K     |███████████████████████▍        | 880kB 5.6MB/s eta 0:00:01\r\u001b[K     |███████████████████████▊        | 890kB 5.6MB/s eta 0:00:01\r\u001b[K     |████████████████████████        | 901kB 5.6MB/s eta 0:00:01\r\u001b[K     |████████████████████████▎       | 911kB 5.6MB/s eta 0:00:01\r\u001b[K     |████████████████████████▌       | 921kB 5.6MB/s eta 0:00:01\r\u001b[K     |████████████████████████▊       | 931kB 5.6MB/s eta 0:00:01\r\u001b[K     |█████████████████████████       | 942kB 5.6MB/s eta 0:00:01\r\u001b[K     |█████████████████████████▎      | 952kB 5.6MB/s eta 0:00:01\r\u001b[K     |█████████████████████████▋      | 962kB 5.6MB/s eta 0:00:01\r\u001b[K     |█████████████████████████▉      | 972kB 5.6MB/s eta 0:00:01\r\u001b[K     |██████████████████████████▏     | 983kB 5.6MB/s eta 0:00:01\r\u001b[K     |██████████████████████████▍     | 993kB 5.6MB/s eta 0:00:01\r\u001b[K     |██████████████████████████▊     | 1.0MB 5.6MB/s eta 0:00:01\r\u001b[K     |███████████████████████████     | 1.0MB 5.6MB/s eta 0:00:01\r\u001b[K     |███████████████████████████▎    | 1.0MB 5.6MB/s eta 0:00:01\r\u001b[K     |███████████████████████████▌    | 1.0MB 5.6MB/s eta 0:00:01\r\u001b[K     |███████████████████████████▊    | 1.0MB 5.6MB/s eta 0:00:01\r\u001b[K     |████████████████████████████    | 1.1MB 5.6MB/s eta 0:00:01\r\u001b[K     |████████████████████████████▎   | 1.1MB 5.6MB/s eta 0:00:01\r\u001b[K     |████████████████████████████▋   | 1.1MB 5.6MB/s eta 0:00:01\r\u001b[K     |████████████████████████████▉   | 1.1MB 5.6MB/s eta 0:00:01\r\u001b[K     |█████████████████████████████▏  | 1.1MB 5.6MB/s eta 0:00:01\r\u001b[K     |█████████████████████████████▍  | 1.1MB 5.6MB/s eta 0:00:01\r\u001b[K     |█████████████████████████████▊  | 1.1MB 5.6MB/s eta 0:00:01\r\u001b[K     |██████████████████████████████  | 1.1MB 5.6MB/s eta 0:00:01\r\u001b[K     |██████████████████████████████▏ | 1.1MB 5.6MB/s eta 0:00:01\r\u001b[K     |██████████████████████████████▌ | 1.1MB 5.6MB/s eta 0:00:01\r\u001b[K     |██████████████████████████████▊ | 1.2MB 5.6MB/s eta 0:00:01\r\u001b[K     |███████████████████████████████ | 1.2MB 5.6MB/s eta 0:00:01\r\u001b[K     |███████████████████████████████▎| 1.2MB 5.6MB/s eta 0:00:01\r\u001b[K     |███████████████████████████████▋| 1.2MB 5.6MB/s eta 0:00:01\r\u001b[K     |███████████████████████████████▉| 1.2MB 5.6MB/s eta 0:00:01\r\u001b[K     |████████████████████████████████| 1.2MB 5.6MB/s \n",
            "\u001b[?25hInstalling collected packages: sentencepiece\n",
            "Successfully installed sentencepiece-0.1.95\n",
            "Requirement already satisfied: torch in /usr/local/lib/python3.6/dist-packages (1.7.0+cu101)\n",
            "Requirement already satisfied: numpy in /usr/local/lib/python3.6/dist-packages (from torch) (1.19.5)\n",
            "Requirement already satisfied: typing-extensions in /usr/local/lib/python3.6/dist-packages (from torch) (3.7.4.3)\n",
            "Requirement already satisfied: future in /usr/local/lib/python3.6/dist-packages (from torch) (0.16.0)\n",
            "Requirement already satisfied: dataclasses in /usr/local/lib/python3.6/dist-packages (from torch) (0.8)\n",
            "Collecting transformers\n",
            "\u001b[?25l  Downloading https://files.pythonhosted.org/packages/88/b1/41130a228dd656a1a31ba281598a968320283f48d42782845f6ba567f00b/transformers-4.2.2-py3-none-any.whl (1.8MB)\n",
            "\u001b[K     |████████████████████████████████| 1.8MB 5.4MB/s \n",
            "\u001b[?25hRequirement already satisfied: regex!=2019.12.17 in /usr/local/lib/python3.6/dist-packages (from transformers) (2019.12.20)\n",
            "Requirement already satisfied: tqdm>=4.27 in /usr/local/lib/python3.6/dist-packages (from transformers) (4.41.1)\n",
            "Requirement already satisfied: requests in /usr/local/lib/python3.6/dist-packages (from transformers) (2.23.0)\n",
            "Collecting sacremoses\n",
            "\u001b[?25l  Downloading https://files.pythonhosted.org/packages/7d/34/09d19aff26edcc8eb2a01bed8e98f13a1537005d31e95233fd48216eed10/sacremoses-0.0.43.tar.gz (883kB)\n",
            "\u001b[K     |████████████████████████████████| 890kB 20.9MB/s \n",
            "\u001b[?25hRequirement already satisfied: packaging in /usr/local/lib/python3.6/dist-packages (from transformers) (20.8)\n",
            "Requirement already satisfied: dataclasses; python_version < \"3.7\" in /usr/local/lib/python3.6/dist-packages (from transformers) (0.8)\n",
            "Requirement already satisfied: numpy in /usr/local/lib/python3.6/dist-packages (from transformers) (1.19.5)\n",
            "Requirement already satisfied: filelock in /usr/local/lib/python3.6/dist-packages (from transformers) (3.0.12)\n",
            "Requirement already satisfied: importlib-metadata; python_version < \"3.8\" in /usr/local/lib/python3.6/dist-packages (from transformers) (3.3.0)\n",
            "Collecting tokenizers==0.9.4\n",
            "\u001b[?25l  Downloading https://files.pythonhosted.org/packages/0f/1c/e789a8b12e28be5bc1ce2156cf87cb522b379be9cadc7ad8091a4cc107c4/tokenizers-0.9.4-cp36-cp36m-manylinux2010_x86_64.whl (2.9MB)\n",
            "\u001b[K     |████████████████████████████████| 2.9MB 22.0MB/s \n",
            "\u001b[?25hRequirement already satisfied: chardet<4,>=3.0.2 in /usr/local/lib/python3.6/dist-packages (from requests->transformers) (3.0.4)\n",
            "Requirement already satisfied: certifi>=2017.4.17 in /usr/local/lib/python3.6/dist-packages (from requests->transformers) (2020.12.5)\n",
            "Requirement already satisfied: idna<3,>=2.5 in /usr/local/lib/python3.6/dist-packages (from requests->transformers) (2.10)\n",
            "Requirement already satisfied: urllib3!=1.25.0,!=1.25.1,<1.26,>=1.21.1 in /usr/local/lib/python3.6/dist-packages (from requests->transformers) (1.24.3)\n",
            "Requirement already satisfied: six in /usr/local/lib/python3.6/dist-packages (from sacremoses->transformers) (1.15.0)\n",
            "Requirement already satisfied: click in /usr/local/lib/python3.6/dist-packages (from sacremoses->transformers) (7.1.2)\n",
            "Requirement already satisfied: joblib in /usr/local/lib/python3.6/dist-packages (from sacremoses->transformers) (1.0.0)\n",
            "Requirement already satisfied: pyparsing>=2.0.2 in /usr/local/lib/python3.6/dist-packages (from packaging->transformers) (2.4.7)\n",
            "Requirement already satisfied: zipp>=0.5 in /usr/local/lib/python3.6/dist-packages (from importlib-metadata; python_version < \"3.8\"->transformers) (3.4.0)\n",
            "Requirement already satisfied: typing-extensions>=3.6.4; python_version < \"3.8\" in /usr/local/lib/python3.6/dist-packages (from importlib-metadata; python_version < \"3.8\"->transformers) (3.7.4.3)\n",
            "Building wheels for collected packages: sacremoses\n",
            "  Building wheel for sacremoses (setup.py) ... \u001b[?25l\u001b[?25hdone\n",
            "  Created wheel for sacremoses: filename=sacremoses-0.0.43-cp36-none-any.whl size=893261 sha256=5c3845d8d2585d61589837250064cf865a4d93a58abadf94cd9089a9fd437a75\n",
            "  Stored in directory: /root/.cache/pip/wheels/29/3c/fd/7ce5c3f0666dab31a50123635e6fb5e19ceb42ce38d4e58f45\n",
            "Successfully built sacremoses\n",
            "Installing collected packages: sacremoses, tokenizers, transformers\n",
            "Successfully installed sacremoses-0.0.43 tokenizers-0.9.4 transformers-4.2.2\n"
          ],
          "name": "stdout"
        }
      ]
    },
    {
      "cell_type": "code",
      "metadata": {
        "id": "I3HNNO3gjDN_",
        "colab": {
          "base_uri": "https://localhost:8080/",
          "height": 311,
          "referenced_widgets": [
            "9d735745906d459285d58be8fbc98b4f",
            "8e89d1176b4d465891d71d205a676b30",
            "fbc97b69bad04929af07ec80eb77d4a3",
            "48112926425e442199b9dc97f49437df",
            "a6cec221867c492ca470c4486f00bbe4",
            "f6880081af6740a7bf7e5f0f529e2542",
            "6ee715b3a59444f19c5834db5f3452c3",
            "1cd20107bf064da492cc4aba721f69ca",
            "5afec48828f141e687be86e9a79ddc1c",
            "41d5db6acdef46a289f6baabbd1cca8d",
            "4a5de44a81c0410fac121f80fe0e011b",
            "df3606327473455cba0f8c7190c581d5",
            "c50d45a9b2e4458e861b47830ce4154a",
            "f5e121d2e4694314b3af94f88502eb48",
            "9a51d0fc388241c6a5ad3b0efcafb072",
            "056e794c08a443b492fc78dcc075b721",
            "c2365ec0c2494d808819ba2caa2c5e8d",
            "a90dc36b644a43ebaee07f7306045514",
            "002367691e504e6c9cb1e497fe660b43",
            "e471da63d4184c0ba7d4d2717748066e",
            "364b5601414645ec99590205571b57f2",
            "2abaa1b9cd2a4d7bb9f1121bcca47a99",
            "8e02cfe338c74569b9b96082e365c7e2",
            "37df1c7002a341deb808d584404a8710",
            "8a115f87bf1244a18b10a311449a7add",
            "1c10f9d5560c4240a0b02cc2110ca65e",
            "6986c7a6570241abac0b6fc83caf2a20",
            "b44eed7fe6a04c359cefd71b2c59548f",
            "7b1e5d1be8174e39b55dde4333289f7b",
            "6ff7271e7f924748a06662f3cd37250c",
            "531886b4a7504238a17330f71e24ad44",
            "7a747a1351ee45afa1923f815f779a1d",
            "04fa1c1ad4b64287ac18c5f17d919aa3",
            "7d0d779835b840c5997a1884fe412ff7",
            "d2afa823eede4eff901e52f5d7168b24",
            "b549ba3bf7ae490c83745d5d2f6cd0b1",
            "e3aa2bb3589b43d4b1b2dd1dd38deced",
            "96f60c6e096b4119928fe54a925e5970",
            "ae69ab5d868e4fde84cba868081f3461",
            "ababdb4cd6694aef94110616a89bc9e2",
            "1d1c4a0ad09b472c8c197199d367170d",
            "0e0b0ad3d17c4d1dae93a964af4bf3b9",
            "8687eabdc9444374bfec10bd8d6e03e2",
            "5f05efbcceb14688b801d06634cbee51",
            "267d68d1489a4f45aee271b0e779e9ff",
            "88983491ff4641bd8cd106a5c9c3c002",
            "a89f46b298804f309d3dc863566025e6",
            "b39953617a4a4b69bf1a85b875587b93"
          ]
        },
        "outputId": "4784689a-035c-4e18-bbb1-0aa9271d9dca"
      },
      "source": [
        "#import pretrained models \n",
        "from transformers import AutoTokenizer, AutoModelWithLMHead, AutoModelForSeq2SeqLM\n",
        "tokenizer = AutoTokenizer.from_pretrained(\"Helsinki-NLP/opus-mt-en-tw\")\n",
        "#model = AutoModelWithLMHead.from_pretrained(\"Helsinki-NLP/opus-mt-en-tw\")\n",
        "model = AutoModelForSeq2SeqLM.from_pretrained(\"Helsinki-NLP/opus-mt-en-tw\")"
      ],
      "execution_count": null,
      "outputs": [
        {
          "output_type": "display_data",
          "data": {
            "application/vnd.jupyter.widget-view+json": {
              "model_id": "9d735745906d459285d58be8fbc98b4f",
              "version_minor": 0,
              "version_major": 2
            },
            "text/plain": [
              "HBox(children=(FloatProgress(value=0.0, description='Downloading', max=1132.0, style=ProgressStyle(description…"
            ]
          },
          "metadata": {
            "tags": []
          }
        },
        {
          "output_type": "stream",
          "text": [
            "\n"
          ],
          "name": "stdout"
        },
        {
          "output_type": "display_data",
          "data": {
            "application/vnd.jupyter.widget-view+json": {
              "model_id": "5afec48828f141e687be86e9a79ddc1c",
              "version_minor": 0,
              "version_major": 2
            },
            "text/plain": [
              "HBox(children=(FloatProgress(value=0.0, description='Downloading', max=822549.0, style=ProgressStyle(descripti…"
            ]
          },
          "metadata": {
            "tags": []
          }
        },
        {
          "output_type": "stream",
          "text": [
            "\n"
          ],
          "name": "stdout"
        },
        {
          "output_type": "display_data",
          "data": {
            "application/vnd.jupyter.widget-view+json": {
              "model_id": "c2365ec0c2494d808819ba2caa2c5e8d",
              "version_minor": 0,
              "version_major": 2
            },
            "text/plain": [
              "HBox(children=(FloatProgress(value=0.0, description='Downloading', max=788340.0, style=ProgressStyle(descripti…"
            ]
          },
          "metadata": {
            "tags": []
          }
        },
        {
          "output_type": "stream",
          "text": [
            "\n"
          ],
          "name": "stdout"
        },
        {
          "output_type": "display_data",
          "data": {
            "application/vnd.jupyter.widget-view+json": {
              "model_id": "8a115f87bf1244a18b10a311449a7add",
              "version_minor": 0,
              "version_major": 2
            },
            "text/plain": [
              "HBox(children=(FloatProgress(value=0.0, description='Downloading', max=1305726.0, style=ProgressStyle(descript…"
            ]
          },
          "metadata": {
            "tags": []
          }
        },
        {
          "output_type": "stream",
          "text": [
            "\n"
          ],
          "name": "stdout"
        },
        {
          "output_type": "display_data",
          "data": {
            "application/vnd.jupyter.widget-view+json": {
              "model_id": "04fa1c1ad4b64287ac18c5f17d919aa3",
              "version_minor": 0,
              "version_major": 2
            },
            "text/plain": [
              "HBox(children=(FloatProgress(value=0.0, description='Downloading', max=42.0, style=ProgressStyle(description_w…"
            ]
          },
          "metadata": {
            "tags": []
          }
        },
        {
          "output_type": "stream",
          "text": [
            "\n"
          ],
          "name": "stdout"
        },
        {
          "output_type": "display_data",
          "data": {
            "application/vnd.jupyter.widget-view+json": {
              "model_id": "1d1c4a0ad09b472c8c197199d367170d",
              "version_minor": 0,
              "version_major": 2
            },
            "text/plain": [
              "HBox(children=(FloatProgress(value=0.0, description='Downloading', max=295668957.0, style=ProgressStyle(descri…"
            ]
          },
          "metadata": {
            "tags": []
          }
        },
        {
          "output_type": "stream",
          "text": [
            "\n"
          ],
          "name": "stdout"
        }
      ]
    },
    {
      "cell_type": "code",
      "metadata": {
        "id": "o0llaXGTjDOJ"
      },
      "source": [
        "#import further libraries that will be needed\n",
        "import nltk\n",
        "from nltk.translate.bleu_score import SmoothingFunction\n",
        "import pandas as pd"
      ],
      "execution_count": null,
      "outputs": []
    },
    {
      "cell_type": "code",
      "metadata": {
        "id": "I0VD7RqfjDOK"
      },
      "source": [
        "def translate(input_sentence, model=model, **kwargs):\n",
        "    \"\"\"\n",
        "    Translate the sentence to the target language using the provided model and any keyword arguments provided.\n",
        "    input_sentence: List of sentences\n",
        "    model: model to use for the translation.\n",
        "    \n",
        "    Returns:\n",
        "    List of corresponding translations for the target language\n",
        "    \"\"\"\n",
        "\n",
        "    input_id = tokenizer.encode(input_sentence, return_tensors=\"pt\")\n",
        "    beam_output = model.generate(input_id,  **kwargs)\n",
        "    return tokenizer.decode(beam_output[0], skip_special_tokens=True)"
      ],
      "execution_count": null,
      "outputs": []
    },
    {
      "cell_type": "code",
      "metadata": {
        "id": "K3B-NY_xphQC"
      },
      "source": [
        "def bleuscore_dataframe(dataframe, weights=(0.85,0.15,0,0), smoothFn=None,auto_reweigh=False):\r\n",
        "    \"\"\"\r\n",
        "    compute the bleu score of an entire dataframe dataframe should have a predictions and \r\n",
        "    references column\r\n",
        "    dataframe: pd.DataFrame - should have \"predictions\" and \"references\" columns\r\n",
        "    weights is a 4-tuple summing up to 1. indicates weights for unigrams, bigrams etc\r\n",
        "    smoothFn:int {0,7}. refer to nltk API for details\r\n",
        "    \"\"\"\r\n",
        "    preds = []\r\n",
        "    for line in dataframe['predictions'].values.tolist(): \r\n",
        "        line_clean = line.strip().split()\r\n",
        "        preds.append(line_clean)\r\n",
        "    refs = []\r\n",
        "    for line in dataframe[\"references\"].values.tolist(): \r\n",
        "        line_clean = str(line).strip().split()\r\n",
        "        refs.append(line_clean)\r\n",
        "    refs_2 = [list([(item)]) for item in refs]  # putting it in a form for the nltk bleu method\r\n",
        "    if smoothFn in range(8):\r\n",
        "        smoothFunc = SmoothingFunction()\r\n",
        "        smoothFunc = eval(f\"smoothFunc.method{smoothFn}\")\r\n",
        "    else:\r\n",
        "        smoothFunc = smoothFn\r\n",
        "    BLEUscore = nltk.translate.bleu_score.corpus_bleu(refs_2, preds, weights=weights,\r\n",
        "                                                      smoothing_function=smoothFunc,auto_reweigh=auto_reweigh)\r\n",
        "    return BLEUscore"
      ],
      "execution_count": null,
      "outputs": []
    },
    {
      "cell_type": "code",
      "metadata": {
        "id": "u60qbRaojDOK"
      },
      "source": [
        "#read the parrarel dataset to be used for checking scores\n",
        "pairs = pd.read_csv(\"/content/drive/My Drive/GhanaNLP/DATA/GhanaNLP_data_001.csv\")"
      ],
      "execution_count": null,
      "outputs": []
    },
    {
      "cell_type": "code",
      "metadata": {
        "id": "Z2bP99M3zf-D"
      },
      "source": [
        "def predict_sample_sentences(parallel_sentences, sample_size=100):\r\n",
        "  \"\"\"\r\n",
        "    Takes a dataframe of parrarel eng-twi sentences and translate the english sentences to target language\r\n",
        "\r\n",
        "\r\n",
        "    parallel_sentences: pd.DataFrame - should have \"English\" and \"references\" columns with \"English\" sentences in column index 0 and \"references in col index 1\r\n",
        "    sample_size : number of sentences in the dataframe to translate, default is 100 sentences\r\n",
        "    \r\n",
        "    Return:\r\n",
        "    Returns a dataframe with a third column \"Predictions\" added which contain the translated sentences\r\n",
        "    \"\"\"\r\n",
        "\r\n",
        "  test_pairs = parallel_sentences.sample(sample_size)\r\n",
        "  test_pairs.columns= [\"English\", \"references\"]\r\n",
        "  test_pairs[\"predictions\"] = test_pairs[\"English\"].apply(translate)\r\n",
        "  return test_pairs"
      ],
      "execution_count": null,
      "outputs": []
    },
    {
      "cell_type": "code",
      "metadata": {
        "id": "6sxFJQVU1Sb7"
      },
      "source": [
        "#translate some sample sentences\r\n",
        "sample_test_pairs = predict_sample_sentences(pairs)"
      ],
      "execution_count": null,
      "outputs": []
    },
    {
      "cell_type": "code",
      "metadata": {
        "colab": {
          "base_uri": "https://localhost:8080/",
          "height": 235
        },
        "id": "SVqwL-AH10sh",
        "outputId": "84b60981-bd1e-4673-ef2c-cd34192cac9f"
      },
      "source": [
        "#take a preview of 6 of the sentences\r\n",
        "sample_test_pairs.sample(6, replace=False)"
      ],
      "execution_count": null,
      "outputs": [
        {
          "output_type": "execute_result",
          "data": {
            "text/html": [
              "<div>\n",
              "<style scoped>\n",
              "    .dataframe tbody tr th:only-of-type {\n",
              "        vertical-align: middle;\n",
              "    }\n",
              "\n",
              "    .dataframe tbody tr th {\n",
              "        vertical-align: top;\n",
              "    }\n",
              "\n",
              "    .dataframe thead th {\n",
              "        text-align: right;\n",
              "    }\n",
              "</style>\n",
              "<table border=\"1\" class=\"dataframe\">\n",
              "  <thead>\n",
              "    <tr style=\"text-align: right;\">\n",
              "      <th></th>\n",
              "      <th>English</th>\n",
              "      <th>references</th>\n",
              "      <th>predictions</th>\n",
              "    </tr>\n",
              "  </thead>\n",
              "  <tbody>\n",
              "    <tr>\n",
              "      <th>619</th>\n",
              "      <td>Pokua must consider carefully whether he reall...</td>\n",
              "      <td>Ɛsɛ sɛ Pokua dwene awaregyae no ho yiye</td>\n",
              "      <td>Ɛsɛ sɛ Pokua susuw ho yiye hwɛ sɛ ebia ɔpɛ awa...</td>\n",
              "    </tr>\n",
              "    <tr>\n",
              "      <th>578</th>\n",
              "      <td>I'm practically already an adult.</td>\n",
              "      <td>Manyini awie ara nen</td>\n",
              "      <td>Ɛkame ayɛ sɛ meyɛ ɔpanyin dedaw.</td>\n",
              "    </tr>\n",
              "    <tr>\n",
              "      <th>640</th>\n",
              "      <td>I want those back when you're done.</td>\n",
              "      <td>Wowie a fabrɛ me</td>\n",
              "      <td>Sɛ woreyɛ biribi a, mepɛ sɛ wɔn a wɔwɔ hɔ no y...</td>\n",
              "    </tr>\n",
              "    <tr>\n",
              "      <th>482</th>\n",
              "      <td>That is a pencil.</td>\n",
              "      <td>ɛno yɛ twerɛdua</td>\n",
              "      <td>Ɛno yɛ pɛnsere.</td>\n",
              "    </tr>\n",
              "    <tr>\n",
              "      <th>572</th>\n",
              "      <td>The boy tried to be a man and not cry.</td>\n",
              "      <td>Abaamuwaa  no bɔɔ ne ho mmɔden sɛ ɔrensu</td>\n",
              "      <td>Abarimaa no bɔɔ mmɔden sɛ ɔbɛyɛ ɔbarima, na ɛn...</td>\n",
              "    </tr>\n",
              "    <tr>\n",
              "      <th>47</th>\n",
              "      <td>He has leukaemia.</td>\n",
              "      <td>Ɔwɔ mogya mu kokram</td>\n",
              "      <td>Ɔwɔ leukaemia.</td>\n",
              "    </tr>\n",
              "  </tbody>\n",
              "</table>\n",
              "</div>"
            ],
            "text/plain": [
              "                                               English  ...                                        predictions\n",
              "619  Pokua must consider carefully whether he reall...  ...  Ɛsɛ sɛ Pokua susuw ho yiye hwɛ sɛ ebia ɔpɛ awa...\n",
              "578                  I'm practically already an adult.  ...                   Ɛkame ayɛ sɛ meyɛ ɔpanyin dedaw.\n",
              "640                I want those back when you're done.  ...  Sɛ woreyɛ biribi a, mepɛ sɛ wɔn a wɔwɔ hɔ no y...\n",
              "482                                  That is a pencil.  ...                                    Ɛno yɛ pɛnsere.\n",
              "572             The boy tried to be a man and not cry.  ...  Abarimaa no bɔɔ mmɔden sɛ ɔbɛyɛ ɔbarima, na ɛn...\n",
              "47                                  He has leukaemia.   ...                                     Ɔwɔ leukaemia.\n",
              "\n",
              "[6 rows x 3 columns]"
            ]
          },
          "metadata": {
            "tags": []
          },
          "execution_count": 10
        }
      ]
    },
    {
      "cell_type": "code",
      "metadata": {
        "id": "PEnOJ136jDOL",
        "colab": {
          "base_uri": "https://localhost:8080/"
        },
        "outputId": "5ecdc7c7-be88-4aed-edfe-cb07d92fa4c7"
      },
      "source": [
        "#check some sample bluescores with different paramaters\r\n",
        "#1. default bleu score weights on 4-grams weights=(0.25,0.25,0.25,0.25) and no smoothing function and no auto_reweigh - Option to re-normalize the weights uniformly.\r\n",
        "bleuscore_dataframe(sample_test_pairs[[\"references\",\"predictions\"]])"
      ],
      "execution_count": 18,
      "outputs": [
        {
          "output_type": "execute_result",
          "data": {
            "text/plain": [
              "0.2558354187605164"
            ]
          },
          "metadata": {
            "tags": []
          },
          "execution_count": 18
        }
      ]
    },
    {
      "cell_type": "code",
      "metadata": {
        "colab": {
          "base_uri": "https://localhost:8080/"
        },
        "id": "3uxWGKVB5pwm",
        "outputId": "69e38b29-fb43-4da6-c75a-a02958e693a0"
      },
      "source": [
        "#3. put all emphasis on uni-grams (1.0)  and smoothing function of 7 and with auto_reweigh\r\n",
        "bleuscore_dataframe(sample_test_pairs[[\"references\",\"predictions\"]], weights=(1,0,0,0),smoothFn=7, auto_reweigh=True)"
      ],
      "execution_count": null,
      "outputs": [
        {
          "output_type": "execute_result",
          "data": {
            "text/plain": [
              "0.5687161015194799"
            ]
          },
          "metadata": {
            "tags": []
          },
          "execution_count": 16
        }
      ]
    },
    {
      "cell_type": "code",
      "metadata": {
        "colab": {
          "base_uri": "https://localhost:8080/"
        },
        "id": "r3KhCdDl5-pY",
        "outputId": "db0d7652-ac56-46ba-c2df-61d9f7098699"
      },
      "source": [
        "#3. default bleu score weights on 4-grams weights=(0.25,0.25,0.25,0.25)  and smoothing function of 7 and with auto_reweigh\r\n",
        "bleuscore_dataframe(sample_test_pairs[[\"references\",\"predictions\"]],smoothFn=7, auto_reweigh=True)"
      ],
      "execution_count": null,
      "outputs": [
        {
          "output_type": "execute_result",
          "data": {
            "text/plain": [
              "0.5038560355183354"
            ]
          },
          "metadata": {
            "tags": []
          },
          "execution_count": 17
        }
      ]
    }
  ]
}