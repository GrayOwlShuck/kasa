{
  "nbformat": 4,
  "nbformat_minor": 0,
  "metadata": {
    "kernelspec": {
      "display_name": "Python 3",
      "language": "python",
      "name": "python3"
    },
    "language_info": {
      "codemirror_mode": {
        "name": "ipython",
        "version": 3
      },
      "file_extension": ".py",
      "mimetype": "text/x-python",
      "name": "python",
      "nbconvert_exporter": "python",
      "pygments_lexer": "ipython3",
      "version": "3.7.7"
    },
    "colab": {
      "name": "BLEU Evaluation.ipynb",
      "provenance": []
    },
    "widgets": {
      "application/vnd.jupyter.widget-state+json": {
        "19a8a2c394654e80996e9709904ad8fb": {
          "model_module": "@jupyter-widgets/controls",
          "model_name": "HBoxModel",
          "state": {
            "_view_name": "HBoxView",
            "_dom_classes": [],
            "_model_name": "HBoxModel",
            "_view_module": "@jupyter-widgets/controls",
            "_model_module_version": "1.5.0",
            "_view_count": null,
            "_view_module_version": "1.5.0",
            "box_style": "",
            "layout": "IPY_MODEL_2a2eb49d590148f5b1405c5f7576c6e0",
            "_model_module": "@jupyter-widgets/controls",
            "children": [
              "IPY_MODEL_81eef7d6ac0d4659821ac1f21c066177",
              "IPY_MODEL_e7785b26e74349c08c47b8f3baa12032"
            ]
          }
        },
        "2a2eb49d590148f5b1405c5f7576c6e0": {
          "model_module": "@jupyter-widgets/base",
          "model_name": "LayoutModel",
          "state": {
            "_view_name": "LayoutView",
            "grid_template_rows": null,
            "right": null,
            "justify_content": null,
            "_view_module": "@jupyter-widgets/base",
            "overflow": null,
            "_model_module_version": "1.2.0",
            "_view_count": null,
            "flex_flow": null,
            "width": null,
            "min_width": null,
            "border": null,
            "align_items": null,
            "bottom": null,
            "_model_module": "@jupyter-widgets/base",
            "top": null,
            "grid_column": null,
            "overflow_y": null,
            "overflow_x": null,
            "grid_auto_flow": null,
            "grid_area": null,
            "grid_template_columns": null,
            "flex": null,
            "_model_name": "LayoutModel",
            "justify_items": null,
            "grid_row": null,
            "max_height": null,
            "align_content": null,
            "visibility": null,
            "align_self": null,
            "height": null,
            "min_height": null,
            "padding": null,
            "grid_auto_rows": null,
            "grid_gap": null,
            "max_width": null,
            "order": null,
            "_view_module_version": "1.2.0",
            "grid_template_areas": null,
            "object_position": null,
            "object_fit": null,
            "grid_auto_columns": null,
            "margin": null,
            "display": null,
            "left": null
          }
        },
        "81eef7d6ac0d4659821ac1f21c066177": {
          "model_module": "@jupyter-widgets/controls",
          "model_name": "FloatProgressModel",
          "state": {
            "_view_name": "ProgressView",
            "style": "IPY_MODEL_77ae40a26a8f42019a5e5eeac7dad008",
            "_dom_classes": [],
            "description": "Downloading: 100%",
            "_model_name": "FloatProgressModel",
            "bar_style": "success",
            "max": 1132,
            "_view_module": "@jupyter-widgets/controls",
            "_model_module_version": "1.5.0",
            "value": 1132,
            "_view_count": null,
            "_view_module_version": "1.5.0",
            "orientation": "horizontal",
            "min": 0,
            "description_tooltip": null,
            "_model_module": "@jupyter-widgets/controls",
            "layout": "IPY_MODEL_e8544404a510463782090ea94e2f343e"
          }
        },
        "e7785b26e74349c08c47b8f3baa12032": {
          "model_module": "@jupyter-widgets/controls",
          "model_name": "HTMLModel",
          "state": {
            "_view_name": "HTMLView",
            "style": "IPY_MODEL_fe8b41121bf3409d85d70ae555e25749",
            "_dom_classes": [],
            "description": "",
            "_model_name": "HTMLModel",
            "placeholder": "​",
            "_view_module": "@jupyter-widgets/controls",
            "_model_module_version": "1.5.0",
            "value": " 1.13k/1.13k [00:00&lt;00:00, 22.4kB/s]",
            "_view_count": null,
            "_view_module_version": "1.5.0",
            "description_tooltip": null,
            "_model_module": "@jupyter-widgets/controls",
            "layout": "IPY_MODEL_69d899ba6a584668aa99e0a83da814b6"
          }
        },
        "77ae40a26a8f42019a5e5eeac7dad008": {
          "model_module": "@jupyter-widgets/controls",
          "model_name": "ProgressStyleModel",
          "state": {
            "_view_name": "StyleView",
            "_model_name": "ProgressStyleModel",
            "description_width": "initial",
            "_view_module": "@jupyter-widgets/base",
            "_model_module_version": "1.5.0",
            "_view_count": null,
            "_view_module_version": "1.2.0",
            "bar_color": null,
            "_model_module": "@jupyter-widgets/controls"
          }
        },
        "e8544404a510463782090ea94e2f343e": {
          "model_module": "@jupyter-widgets/base",
          "model_name": "LayoutModel",
          "state": {
            "_view_name": "LayoutView",
            "grid_template_rows": null,
            "right": null,
            "justify_content": null,
            "_view_module": "@jupyter-widgets/base",
            "overflow": null,
            "_model_module_version": "1.2.0",
            "_view_count": null,
            "flex_flow": null,
            "width": null,
            "min_width": null,
            "border": null,
            "align_items": null,
            "bottom": null,
            "_model_module": "@jupyter-widgets/base",
            "top": null,
            "grid_column": null,
            "overflow_y": null,
            "overflow_x": null,
            "grid_auto_flow": null,
            "grid_area": null,
            "grid_template_columns": null,
            "flex": null,
            "_model_name": "LayoutModel",
            "justify_items": null,
            "grid_row": null,
            "max_height": null,
            "align_content": null,
            "visibility": null,
            "align_self": null,
            "height": null,
            "min_height": null,
            "padding": null,
            "grid_auto_rows": null,
            "grid_gap": null,
            "max_width": null,
            "order": null,
            "_view_module_version": "1.2.0",
            "grid_template_areas": null,
            "object_position": null,
            "object_fit": null,
            "grid_auto_columns": null,
            "margin": null,
            "display": null,
            "left": null
          }
        },
        "fe8b41121bf3409d85d70ae555e25749": {
          "model_module": "@jupyter-widgets/controls",
          "model_name": "DescriptionStyleModel",
          "state": {
            "_view_name": "StyleView",
            "_model_name": "DescriptionStyleModel",
            "description_width": "",
            "_view_module": "@jupyter-widgets/base",
            "_model_module_version": "1.5.0",
            "_view_count": null,
            "_view_module_version": "1.2.0",
            "_model_module": "@jupyter-widgets/controls"
          }
        },
        "69d899ba6a584668aa99e0a83da814b6": {
          "model_module": "@jupyter-widgets/base",
          "model_name": "LayoutModel",
          "state": {
            "_view_name": "LayoutView",
            "grid_template_rows": null,
            "right": null,
            "justify_content": null,
            "_view_module": "@jupyter-widgets/base",
            "overflow": null,
            "_model_module_version": "1.2.0",
            "_view_count": null,
            "flex_flow": null,
            "width": null,
            "min_width": null,
            "border": null,
            "align_items": null,
            "bottom": null,
            "_model_module": "@jupyter-widgets/base",
            "top": null,
            "grid_column": null,
            "overflow_y": null,
            "overflow_x": null,
            "grid_auto_flow": null,
            "grid_area": null,
            "grid_template_columns": null,
            "flex": null,
            "_model_name": "LayoutModel",
            "justify_items": null,
            "grid_row": null,
            "max_height": null,
            "align_content": null,
            "visibility": null,
            "align_self": null,
            "height": null,
            "min_height": null,
            "padding": null,
            "grid_auto_rows": null,
            "grid_gap": null,
            "max_width": null,
            "order": null,
            "_view_module_version": "1.2.0",
            "grid_template_areas": null,
            "object_position": null,
            "object_fit": null,
            "grid_auto_columns": null,
            "margin": null,
            "display": null,
            "left": null
          }
        },
        "fe50387c611748cfb4b0c6ba2e397681": {
          "model_module": "@jupyter-widgets/controls",
          "model_name": "HBoxModel",
          "state": {
            "_view_name": "HBoxView",
            "_dom_classes": [],
            "_model_name": "HBoxModel",
            "_view_module": "@jupyter-widgets/controls",
            "_model_module_version": "1.5.0",
            "_view_count": null,
            "_view_module_version": "1.5.0",
            "box_style": "",
            "layout": "IPY_MODEL_50ae8ede0fc64c249f4cb254c1e7dc81",
            "_model_module": "@jupyter-widgets/controls",
            "children": [
              "IPY_MODEL_e48a826cc8a14761ab6fb619d9807258",
              "IPY_MODEL_c623565447a54ee49d8c0093f3fe1885"
            ]
          }
        },
        "50ae8ede0fc64c249f4cb254c1e7dc81": {
          "model_module": "@jupyter-widgets/base",
          "model_name": "LayoutModel",
          "state": {
            "_view_name": "LayoutView",
            "grid_template_rows": null,
            "right": null,
            "justify_content": null,
            "_view_module": "@jupyter-widgets/base",
            "overflow": null,
            "_model_module_version": "1.2.0",
            "_view_count": null,
            "flex_flow": null,
            "width": null,
            "min_width": null,
            "border": null,
            "align_items": null,
            "bottom": null,
            "_model_module": "@jupyter-widgets/base",
            "top": null,
            "grid_column": null,
            "overflow_y": null,
            "overflow_x": null,
            "grid_auto_flow": null,
            "grid_area": null,
            "grid_template_columns": null,
            "flex": null,
            "_model_name": "LayoutModel",
            "justify_items": null,
            "grid_row": null,
            "max_height": null,
            "align_content": null,
            "visibility": null,
            "align_self": null,
            "height": null,
            "min_height": null,
            "padding": null,
            "grid_auto_rows": null,
            "grid_gap": null,
            "max_width": null,
            "order": null,
            "_view_module_version": "1.2.0",
            "grid_template_areas": null,
            "object_position": null,
            "object_fit": null,
            "grid_auto_columns": null,
            "margin": null,
            "display": null,
            "left": null
          }
        },
        "e48a826cc8a14761ab6fb619d9807258": {
          "model_module": "@jupyter-widgets/controls",
          "model_name": "FloatProgressModel",
          "state": {
            "_view_name": "ProgressView",
            "style": "IPY_MODEL_f0db0bd04a244d88a1705426e627b7ef",
            "_dom_classes": [],
            "description": "Downloading: 100%",
            "_model_name": "FloatProgressModel",
            "bar_style": "success",
            "max": 822549,
            "_view_module": "@jupyter-widgets/controls",
            "_model_module_version": "1.5.0",
            "value": 822549,
            "_view_count": null,
            "_view_module_version": "1.5.0",
            "orientation": "horizontal",
            "min": 0,
            "description_tooltip": null,
            "_model_module": "@jupyter-widgets/controls",
            "layout": "IPY_MODEL_8a484387ca504bffafc4042cc13e749e"
          }
        },
        "c623565447a54ee49d8c0093f3fe1885": {
          "model_module": "@jupyter-widgets/controls",
          "model_name": "HTMLModel",
          "state": {
            "_view_name": "HTMLView",
            "style": "IPY_MODEL_3ddbb0632d4d42948c91d0de0c429a0f",
            "_dom_classes": [],
            "description": "",
            "_model_name": "HTMLModel",
            "placeholder": "​",
            "_view_module": "@jupyter-widgets/controls",
            "_model_module_version": "1.5.0",
            "value": " 823k/823k [00:01&lt;00:00, 558kB/s]",
            "_view_count": null,
            "_view_module_version": "1.5.0",
            "description_tooltip": null,
            "_model_module": "@jupyter-widgets/controls",
            "layout": "IPY_MODEL_c7ff0d31b5be4959867ac5c7ead07b25"
          }
        },
        "f0db0bd04a244d88a1705426e627b7ef": {
          "model_module": "@jupyter-widgets/controls",
          "model_name": "ProgressStyleModel",
          "state": {
            "_view_name": "StyleView",
            "_model_name": "ProgressStyleModel",
            "description_width": "initial",
            "_view_module": "@jupyter-widgets/base",
            "_model_module_version": "1.5.0",
            "_view_count": null,
            "_view_module_version": "1.2.0",
            "bar_color": null,
            "_model_module": "@jupyter-widgets/controls"
          }
        },
        "8a484387ca504bffafc4042cc13e749e": {
          "model_module": "@jupyter-widgets/base",
          "model_name": "LayoutModel",
          "state": {
            "_view_name": "LayoutView",
            "grid_template_rows": null,
            "right": null,
            "justify_content": null,
            "_view_module": "@jupyter-widgets/base",
            "overflow": null,
            "_model_module_version": "1.2.0",
            "_view_count": null,
            "flex_flow": null,
            "width": null,
            "min_width": null,
            "border": null,
            "align_items": null,
            "bottom": null,
            "_model_module": "@jupyter-widgets/base",
            "top": null,
            "grid_column": null,
            "overflow_y": null,
            "overflow_x": null,
            "grid_auto_flow": null,
            "grid_area": null,
            "grid_template_columns": null,
            "flex": null,
            "_model_name": "LayoutModel",
            "justify_items": null,
            "grid_row": null,
            "max_height": null,
            "align_content": null,
            "visibility": null,
            "align_self": null,
            "height": null,
            "min_height": null,
            "padding": null,
            "grid_auto_rows": null,
            "grid_gap": null,
            "max_width": null,
            "order": null,
            "_view_module_version": "1.2.0",
            "grid_template_areas": null,
            "object_position": null,
            "object_fit": null,
            "grid_auto_columns": null,
            "margin": null,
            "display": null,
            "left": null
          }
        },
        "3ddbb0632d4d42948c91d0de0c429a0f": {
          "model_module": "@jupyter-widgets/controls",
          "model_name": "DescriptionStyleModel",
          "state": {
            "_view_name": "StyleView",
            "_model_name": "DescriptionStyleModel",
            "description_width": "",
            "_view_module": "@jupyter-widgets/base",
            "_model_module_version": "1.5.0",
            "_view_count": null,
            "_view_module_version": "1.2.0",
            "_model_module": "@jupyter-widgets/controls"
          }
        },
        "c7ff0d31b5be4959867ac5c7ead07b25": {
          "model_module": "@jupyter-widgets/base",
          "model_name": "LayoutModel",
          "state": {
            "_view_name": "LayoutView",
            "grid_template_rows": null,
            "right": null,
            "justify_content": null,
            "_view_module": "@jupyter-widgets/base",
            "overflow": null,
            "_model_module_version": "1.2.0",
            "_view_count": null,
            "flex_flow": null,
            "width": null,
            "min_width": null,
            "border": null,
            "align_items": null,
            "bottom": null,
            "_model_module": "@jupyter-widgets/base",
            "top": null,
            "grid_column": null,
            "overflow_y": null,
            "overflow_x": null,
            "grid_auto_flow": null,
            "grid_area": null,
            "grid_template_columns": null,
            "flex": null,
            "_model_name": "LayoutModel",
            "justify_items": null,
            "grid_row": null,
            "max_height": null,
            "align_content": null,
            "visibility": null,
            "align_self": null,
            "height": null,
            "min_height": null,
            "padding": null,
            "grid_auto_rows": null,
            "grid_gap": null,
            "max_width": null,
            "order": null,
            "_view_module_version": "1.2.0",
            "grid_template_areas": null,
            "object_position": null,
            "object_fit": null,
            "grid_auto_columns": null,
            "margin": null,
            "display": null,
            "left": null
          }
        },
        "39275631c6874f4784efe06e94572ece": {
          "model_module": "@jupyter-widgets/controls",
          "model_name": "HBoxModel",
          "state": {
            "_view_name": "HBoxView",
            "_dom_classes": [],
            "_model_name": "HBoxModel",
            "_view_module": "@jupyter-widgets/controls",
            "_model_module_version": "1.5.0",
            "_view_count": null,
            "_view_module_version": "1.5.0",
            "box_style": "",
            "layout": "IPY_MODEL_1bcc13190e3748948c6924147058af93",
            "_model_module": "@jupyter-widgets/controls",
            "children": [
              "IPY_MODEL_a4761b4dfa814a59b3c7abfc1913fa59",
              "IPY_MODEL_a662ab1d0ce247678f9e68f780ae7abb"
            ]
          }
        },
        "1bcc13190e3748948c6924147058af93": {
          "model_module": "@jupyter-widgets/base",
          "model_name": "LayoutModel",
          "state": {
            "_view_name": "LayoutView",
            "grid_template_rows": null,
            "right": null,
            "justify_content": null,
            "_view_module": "@jupyter-widgets/base",
            "overflow": null,
            "_model_module_version": "1.2.0",
            "_view_count": null,
            "flex_flow": null,
            "width": null,
            "min_width": null,
            "border": null,
            "align_items": null,
            "bottom": null,
            "_model_module": "@jupyter-widgets/base",
            "top": null,
            "grid_column": null,
            "overflow_y": null,
            "overflow_x": null,
            "grid_auto_flow": null,
            "grid_area": null,
            "grid_template_columns": null,
            "flex": null,
            "_model_name": "LayoutModel",
            "justify_items": null,
            "grid_row": null,
            "max_height": null,
            "align_content": null,
            "visibility": null,
            "align_self": null,
            "height": null,
            "min_height": null,
            "padding": null,
            "grid_auto_rows": null,
            "grid_gap": null,
            "max_width": null,
            "order": null,
            "_view_module_version": "1.2.0",
            "grid_template_areas": null,
            "object_position": null,
            "object_fit": null,
            "grid_auto_columns": null,
            "margin": null,
            "display": null,
            "left": null
          }
        },
        "a4761b4dfa814a59b3c7abfc1913fa59": {
          "model_module": "@jupyter-widgets/controls",
          "model_name": "FloatProgressModel",
          "state": {
            "_view_name": "ProgressView",
            "style": "IPY_MODEL_8c2ce19d6ed44737b0b38cbd8a5c8039",
            "_dom_classes": [],
            "description": "Downloading: 100%",
            "_model_name": "FloatProgressModel",
            "bar_style": "success",
            "max": 788340,
            "_view_module": "@jupyter-widgets/controls",
            "_model_module_version": "1.5.0",
            "value": 788340,
            "_view_count": null,
            "_view_module_version": "1.5.0",
            "orientation": "horizontal",
            "min": 0,
            "description_tooltip": null,
            "_model_module": "@jupyter-widgets/controls",
            "layout": "IPY_MODEL_bae34b9e6aa94b0f8687304b0a41eadf"
          }
        },
        "a662ab1d0ce247678f9e68f780ae7abb": {
          "model_module": "@jupyter-widgets/controls",
          "model_name": "HTMLModel",
          "state": {
            "_view_name": "HTMLView",
            "style": "IPY_MODEL_a17baee9418b46519d901249b16dd98d",
            "_dom_classes": [],
            "description": "",
            "_model_name": "HTMLModel",
            "placeholder": "​",
            "_view_module": "@jupyter-widgets/controls",
            "_model_module_version": "1.5.0",
            "value": " 788k/788k [00:00&lt;00:00, 1.06MB/s]",
            "_view_count": null,
            "_view_module_version": "1.5.0",
            "description_tooltip": null,
            "_model_module": "@jupyter-widgets/controls",
            "layout": "IPY_MODEL_fd5a6eb1f40840c7b911248efb6d51bb"
          }
        },
        "8c2ce19d6ed44737b0b38cbd8a5c8039": {
          "model_module": "@jupyter-widgets/controls",
          "model_name": "ProgressStyleModel",
          "state": {
            "_view_name": "StyleView",
            "_model_name": "ProgressStyleModel",
            "description_width": "initial",
            "_view_module": "@jupyter-widgets/base",
            "_model_module_version": "1.5.0",
            "_view_count": null,
            "_view_module_version": "1.2.0",
            "bar_color": null,
            "_model_module": "@jupyter-widgets/controls"
          }
        },
        "bae34b9e6aa94b0f8687304b0a41eadf": {
          "model_module": "@jupyter-widgets/base",
          "model_name": "LayoutModel",
          "state": {
            "_view_name": "LayoutView",
            "grid_template_rows": null,
            "right": null,
            "justify_content": null,
            "_view_module": "@jupyter-widgets/base",
            "overflow": null,
            "_model_module_version": "1.2.0",
            "_view_count": null,
            "flex_flow": null,
            "width": null,
            "min_width": null,
            "border": null,
            "align_items": null,
            "bottom": null,
            "_model_module": "@jupyter-widgets/base",
            "top": null,
            "grid_column": null,
            "overflow_y": null,
            "overflow_x": null,
            "grid_auto_flow": null,
            "grid_area": null,
            "grid_template_columns": null,
            "flex": null,
            "_model_name": "LayoutModel",
            "justify_items": null,
            "grid_row": null,
            "max_height": null,
            "align_content": null,
            "visibility": null,
            "align_self": null,
            "height": null,
            "min_height": null,
            "padding": null,
            "grid_auto_rows": null,
            "grid_gap": null,
            "max_width": null,
            "order": null,
            "_view_module_version": "1.2.0",
            "grid_template_areas": null,
            "object_position": null,
            "object_fit": null,
            "grid_auto_columns": null,
            "margin": null,
            "display": null,
            "left": null
          }
        },
        "a17baee9418b46519d901249b16dd98d": {
          "model_module": "@jupyter-widgets/controls",
          "model_name": "DescriptionStyleModel",
          "state": {
            "_view_name": "StyleView",
            "_model_name": "DescriptionStyleModel",
            "description_width": "",
            "_view_module": "@jupyter-widgets/base",
            "_model_module_version": "1.5.0",
            "_view_count": null,
            "_view_module_version": "1.2.0",
            "_model_module": "@jupyter-widgets/controls"
          }
        },
        "fd5a6eb1f40840c7b911248efb6d51bb": {
          "model_module": "@jupyter-widgets/base",
          "model_name": "LayoutModel",
          "state": {
            "_view_name": "LayoutView",
            "grid_template_rows": null,
            "right": null,
            "justify_content": null,
            "_view_module": "@jupyter-widgets/base",
            "overflow": null,
            "_model_module_version": "1.2.0",
            "_view_count": null,
            "flex_flow": null,
            "width": null,
            "min_width": null,
            "border": null,
            "align_items": null,
            "bottom": null,
            "_model_module": "@jupyter-widgets/base",
            "top": null,
            "grid_column": null,
            "overflow_y": null,
            "overflow_x": null,
            "grid_auto_flow": null,
            "grid_area": null,
            "grid_template_columns": null,
            "flex": null,
            "_model_name": "LayoutModel",
            "justify_items": null,
            "grid_row": null,
            "max_height": null,
            "align_content": null,
            "visibility": null,
            "align_self": null,
            "height": null,
            "min_height": null,
            "padding": null,
            "grid_auto_rows": null,
            "grid_gap": null,
            "max_width": null,
            "order": null,
            "_view_module_version": "1.2.0",
            "grid_template_areas": null,
            "object_position": null,
            "object_fit": null,
            "grid_auto_columns": null,
            "margin": null,
            "display": null,
            "left": null
          }
        },
        "1bae56cd3dcd4e7fa36653e246958821": {
          "model_module": "@jupyter-widgets/controls",
          "model_name": "HBoxModel",
          "state": {
            "_view_name": "HBoxView",
            "_dom_classes": [],
            "_model_name": "HBoxModel",
            "_view_module": "@jupyter-widgets/controls",
            "_model_module_version": "1.5.0",
            "_view_count": null,
            "_view_module_version": "1.5.0",
            "box_style": "",
            "layout": "IPY_MODEL_674c7806ddea435f968212aae0f530b3",
            "_model_module": "@jupyter-widgets/controls",
            "children": [
              "IPY_MODEL_68f5c72e9c93499ebe460c3f2012c2ba",
              "IPY_MODEL_ab659e32cbbb43b7b2b3856541926d49"
            ]
          }
        },
        "674c7806ddea435f968212aae0f530b3": {
          "model_module": "@jupyter-widgets/base",
          "model_name": "LayoutModel",
          "state": {
            "_view_name": "LayoutView",
            "grid_template_rows": null,
            "right": null,
            "justify_content": null,
            "_view_module": "@jupyter-widgets/base",
            "overflow": null,
            "_model_module_version": "1.2.0",
            "_view_count": null,
            "flex_flow": null,
            "width": null,
            "min_width": null,
            "border": null,
            "align_items": null,
            "bottom": null,
            "_model_module": "@jupyter-widgets/base",
            "top": null,
            "grid_column": null,
            "overflow_y": null,
            "overflow_x": null,
            "grid_auto_flow": null,
            "grid_area": null,
            "grid_template_columns": null,
            "flex": null,
            "_model_name": "LayoutModel",
            "justify_items": null,
            "grid_row": null,
            "max_height": null,
            "align_content": null,
            "visibility": null,
            "align_self": null,
            "height": null,
            "min_height": null,
            "padding": null,
            "grid_auto_rows": null,
            "grid_gap": null,
            "max_width": null,
            "order": null,
            "_view_module_version": "1.2.0",
            "grid_template_areas": null,
            "object_position": null,
            "object_fit": null,
            "grid_auto_columns": null,
            "margin": null,
            "display": null,
            "left": null
          }
        },
        "68f5c72e9c93499ebe460c3f2012c2ba": {
          "model_module": "@jupyter-widgets/controls",
          "model_name": "FloatProgressModel",
          "state": {
            "_view_name": "ProgressView",
            "style": "IPY_MODEL_ae571d46276743e7af80954a20a4eb7f",
            "_dom_classes": [],
            "description": "Downloading: 100%",
            "_model_name": "FloatProgressModel",
            "bar_style": "success",
            "max": 1305726,
            "_view_module": "@jupyter-widgets/controls",
            "_model_module_version": "1.5.0",
            "value": 1305726,
            "_view_count": null,
            "_view_module_version": "1.5.0",
            "orientation": "horizontal",
            "min": 0,
            "description_tooltip": null,
            "_model_module": "@jupyter-widgets/controls",
            "layout": "IPY_MODEL_3e0fa115c9de4929b095a46c58936026"
          }
        },
        "ab659e32cbbb43b7b2b3856541926d49": {
          "model_module": "@jupyter-widgets/controls",
          "model_name": "HTMLModel",
          "state": {
            "_view_name": "HTMLView",
            "style": "IPY_MODEL_69f82351c199411d8358bb2a3b85d5de",
            "_dom_classes": [],
            "description": "",
            "_model_name": "HTMLModel",
            "placeholder": "​",
            "_view_module": "@jupyter-widgets/controls",
            "_model_module_version": "1.5.0",
            "value": " 1.31M/1.31M [00:19&lt;00:00, 68.1kB/s]",
            "_view_count": null,
            "_view_module_version": "1.5.0",
            "description_tooltip": null,
            "_model_module": "@jupyter-widgets/controls",
            "layout": "IPY_MODEL_5020334e694247b2ae305b6f31243197"
          }
        },
        "ae571d46276743e7af80954a20a4eb7f": {
          "model_module": "@jupyter-widgets/controls",
          "model_name": "ProgressStyleModel",
          "state": {
            "_view_name": "StyleView",
            "_model_name": "ProgressStyleModel",
            "description_width": "initial",
            "_view_module": "@jupyter-widgets/base",
            "_model_module_version": "1.5.0",
            "_view_count": null,
            "_view_module_version": "1.2.0",
            "bar_color": null,
            "_model_module": "@jupyter-widgets/controls"
          }
        },
        "3e0fa115c9de4929b095a46c58936026": {
          "model_module": "@jupyter-widgets/base",
          "model_name": "LayoutModel",
          "state": {
            "_view_name": "LayoutView",
            "grid_template_rows": null,
            "right": null,
            "justify_content": null,
            "_view_module": "@jupyter-widgets/base",
            "overflow": null,
            "_model_module_version": "1.2.0",
            "_view_count": null,
            "flex_flow": null,
            "width": null,
            "min_width": null,
            "border": null,
            "align_items": null,
            "bottom": null,
            "_model_module": "@jupyter-widgets/base",
            "top": null,
            "grid_column": null,
            "overflow_y": null,
            "overflow_x": null,
            "grid_auto_flow": null,
            "grid_area": null,
            "grid_template_columns": null,
            "flex": null,
            "_model_name": "LayoutModel",
            "justify_items": null,
            "grid_row": null,
            "max_height": null,
            "align_content": null,
            "visibility": null,
            "align_self": null,
            "height": null,
            "min_height": null,
            "padding": null,
            "grid_auto_rows": null,
            "grid_gap": null,
            "max_width": null,
            "order": null,
            "_view_module_version": "1.2.0",
            "grid_template_areas": null,
            "object_position": null,
            "object_fit": null,
            "grid_auto_columns": null,
            "margin": null,
            "display": null,
            "left": null
          }
        },
        "69f82351c199411d8358bb2a3b85d5de": {
          "model_module": "@jupyter-widgets/controls",
          "model_name": "DescriptionStyleModel",
          "state": {
            "_view_name": "StyleView",
            "_model_name": "DescriptionStyleModel",
            "description_width": "",
            "_view_module": "@jupyter-widgets/base",
            "_model_module_version": "1.5.0",
            "_view_count": null,
            "_view_module_version": "1.2.0",
            "_model_module": "@jupyter-widgets/controls"
          }
        },
        "5020334e694247b2ae305b6f31243197": {
          "model_module": "@jupyter-widgets/base",
          "model_name": "LayoutModel",
          "state": {
            "_view_name": "LayoutView",
            "grid_template_rows": null,
            "right": null,
            "justify_content": null,
            "_view_module": "@jupyter-widgets/base",
            "overflow": null,
            "_model_module_version": "1.2.0",
            "_view_count": null,
            "flex_flow": null,
            "width": null,
            "min_width": null,
            "border": null,
            "align_items": null,
            "bottom": null,
            "_model_module": "@jupyter-widgets/base",
            "top": null,
            "grid_column": null,
            "overflow_y": null,
            "overflow_x": null,
            "grid_auto_flow": null,
            "grid_area": null,
            "grid_template_columns": null,
            "flex": null,
            "_model_name": "LayoutModel",
            "justify_items": null,
            "grid_row": null,
            "max_height": null,
            "align_content": null,
            "visibility": null,
            "align_self": null,
            "height": null,
            "min_height": null,
            "padding": null,
            "grid_auto_rows": null,
            "grid_gap": null,
            "max_width": null,
            "order": null,
            "_view_module_version": "1.2.0",
            "grid_template_areas": null,
            "object_position": null,
            "object_fit": null,
            "grid_auto_columns": null,
            "margin": null,
            "display": null,
            "left": null
          }
        },
        "98455ab228204c09bdc262c82b4eb782": {
          "model_module": "@jupyter-widgets/controls",
          "model_name": "HBoxModel",
          "state": {
            "_view_name": "HBoxView",
            "_dom_classes": [],
            "_model_name": "HBoxModel",
            "_view_module": "@jupyter-widgets/controls",
            "_model_module_version": "1.5.0",
            "_view_count": null,
            "_view_module_version": "1.5.0",
            "box_style": "",
            "layout": "IPY_MODEL_3b1c2e9937f34f64ad16b89d4a9343ec",
            "_model_module": "@jupyter-widgets/controls",
            "children": [
              "IPY_MODEL_727a413260ad47f190a483a9da362d1d",
              "IPY_MODEL_b14584e6639748d58330923c22a0dddb"
            ]
          }
        },
        "3b1c2e9937f34f64ad16b89d4a9343ec": {
          "model_module": "@jupyter-widgets/base",
          "model_name": "LayoutModel",
          "state": {
            "_view_name": "LayoutView",
            "grid_template_rows": null,
            "right": null,
            "justify_content": null,
            "_view_module": "@jupyter-widgets/base",
            "overflow": null,
            "_model_module_version": "1.2.0",
            "_view_count": null,
            "flex_flow": null,
            "width": null,
            "min_width": null,
            "border": null,
            "align_items": null,
            "bottom": null,
            "_model_module": "@jupyter-widgets/base",
            "top": null,
            "grid_column": null,
            "overflow_y": null,
            "overflow_x": null,
            "grid_auto_flow": null,
            "grid_area": null,
            "grid_template_columns": null,
            "flex": null,
            "_model_name": "LayoutModel",
            "justify_items": null,
            "grid_row": null,
            "max_height": null,
            "align_content": null,
            "visibility": null,
            "align_self": null,
            "height": null,
            "min_height": null,
            "padding": null,
            "grid_auto_rows": null,
            "grid_gap": null,
            "max_width": null,
            "order": null,
            "_view_module_version": "1.2.0",
            "grid_template_areas": null,
            "object_position": null,
            "object_fit": null,
            "grid_auto_columns": null,
            "margin": null,
            "display": null,
            "left": null
          }
        },
        "727a413260ad47f190a483a9da362d1d": {
          "model_module": "@jupyter-widgets/controls",
          "model_name": "FloatProgressModel",
          "state": {
            "_view_name": "ProgressView",
            "style": "IPY_MODEL_4d6754a54a3941e5a48c3ac6cd3fede8",
            "_dom_classes": [],
            "description": "Downloading: 100%",
            "_model_name": "FloatProgressModel",
            "bar_style": "success",
            "max": 42,
            "_view_module": "@jupyter-widgets/controls",
            "_model_module_version": "1.5.0",
            "value": 42,
            "_view_count": null,
            "_view_module_version": "1.5.0",
            "orientation": "horizontal",
            "min": 0,
            "description_tooltip": null,
            "_model_module": "@jupyter-widgets/controls",
            "layout": "IPY_MODEL_0dcdfd04f11c456b9e542a45912b7097"
          }
        },
        "b14584e6639748d58330923c22a0dddb": {
          "model_module": "@jupyter-widgets/controls",
          "model_name": "HTMLModel",
          "state": {
            "_view_name": "HTMLView",
            "style": "IPY_MODEL_768ff559b7e94e278bcfdc248dcfa710",
            "_dom_classes": [],
            "description": "",
            "_model_name": "HTMLModel",
            "placeholder": "​",
            "_view_module": "@jupyter-widgets/controls",
            "_model_module_version": "1.5.0",
            "value": " 42.0/42.0 [00:02&lt;00:00, 16.4B/s]",
            "_view_count": null,
            "_view_module_version": "1.5.0",
            "description_tooltip": null,
            "_model_module": "@jupyter-widgets/controls",
            "layout": "IPY_MODEL_b3bfa58d54f3475b84849f89c75b4e94"
          }
        },
        "4d6754a54a3941e5a48c3ac6cd3fede8": {
          "model_module": "@jupyter-widgets/controls",
          "model_name": "ProgressStyleModel",
          "state": {
            "_view_name": "StyleView",
            "_model_name": "ProgressStyleModel",
            "description_width": "initial",
            "_view_module": "@jupyter-widgets/base",
            "_model_module_version": "1.5.0",
            "_view_count": null,
            "_view_module_version": "1.2.0",
            "bar_color": null,
            "_model_module": "@jupyter-widgets/controls"
          }
        },
        "0dcdfd04f11c456b9e542a45912b7097": {
          "model_module": "@jupyter-widgets/base",
          "model_name": "LayoutModel",
          "state": {
            "_view_name": "LayoutView",
            "grid_template_rows": null,
            "right": null,
            "justify_content": null,
            "_view_module": "@jupyter-widgets/base",
            "overflow": null,
            "_model_module_version": "1.2.0",
            "_view_count": null,
            "flex_flow": null,
            "width": null,
            "min_width": null,
            "border": null,
            "align_items": null,
            "bottom": null,
            "_model_module": "@jupyter-widgets/base",
            "top": null,
            "grid_column": null,
            "overflow_y": null,
            "overflow_x": null,
            "grid_auto_flow": null,
            "grid_area": null,
            "grid_template_columns": null,
            "flex": null,
            "_model_name": "LayoutModel",
            "justify_items": null,
            "grid_row": null,
            "max_height": null,
            "align_content": null,
            "visibility": null,
            "align_self": null,
            "height": null,
            "min_height": null,
            "padding": null,
            "grid_auto_rows": null,
            "grid_gap": null,
            "max_width": null,
            "order": null,
            "_view_module_version": "1.2.0",
            "grid_template_areas": null,
            "object_position": null,
            "object_fit": null,
            "grid_auto_columns": null,
            "margin": null,
            "display": null,
            "left": null
          }
        },
        "768ff559b7e94e278bcfdc248dcfa710": {
          "model_module": "@jupyter-widgets/controls",
          "model_name": "DescriptionStyleModel",
          "state": {
            "_view_name": "StyleView",
            "_model_name": "DescriptionStyleModel",
            "description_width": "",
            "_view_module": "@jupyter-widgets/base",
            "_model_module_version": "1.5.0",
            "_view_count": null,
            "_view_module_version": "1.2.0",
            "_model_module": "@jupyter-widgets/controls"
          }
        },
        "b3bfa58d54f3475b84849f89c75b4e94": {
          "model_module": "@jupyter-widgets/base",
          "model_name": "LayoutModel",
          "state": {
            "_view_name": "LayoutView",
            "grid_template_rows": null,
            "right": null,
            "justify_content": null,
            "_view_module": "@jupyter-widgets/base",
            "overflow": null,
            "_model_module_version": "1.2.0",
            "_view_count": null,
            "flex_flow": null,
            "width": null,
            "min_width": null,
            "border": null,
            "align_items": null,
            "bottom": null,
            "_model_module": "@jupyter-widgets/base",
            "top": null,
            "grid_column": null,
            "overflow_y": null,
            "overflow_x": null,
            "grid_auto_flow": null,
            "grid_area": null,
            "grid_template_columns": null,
            "flex": null,
            "_model_name": "LayoutModel",
            "justify_items": null,
            "grid_row": null,
            "max_height": null,
            "align_content": null,
            "visibility": null,
            "align_self": null,
            "height": null,
            "min_height": null,
            "padding": null,
            "grid_auto_rows": null,
            "grid_gap": null,
            "max_width": null,
            "order": null,
            "_view_module_version": "1.2.0",
            "grid_template_areas": null,
            "object_position": null,
            "object_fit": null,
            "grid_auto_columns": null,
            "margin": null,
            "display": null,
            "left": null
          }
        },
        "d9b76edb78a049c7b3aa2f3b9c53cca5": {
          "model_module": "@jupyter-widgets/controls",
          "model_name": "HBoxModel",
          "state": {
            "_view_name": "HBoxView",
            "_dom_classes": [],
            "_model_name": "HBoxModel",
            "_view_module": "@jupyter-widgets/controls",
            "_model_module_version": "1.5.0",
            "_view_count": null,
            "_view_module_version": "1.5.0",
            "box_style": "",
            "layout": "IPY_MODEL_d2ae26a4a4714b819dc4b5b59b1e2247",
            "_model_module": "@jupyter-widgets/controls",
            "children": [
              "IPY_MODEL_b2f7192bd154408b98e7651579ad5610",
              "IPY_MODEL_47485b0fb2d545b2b7ec8c4ce0145a4a"
            ]
          }
        },
        "d2ae26a4a4714b819dc4b5b59b1e2247": {
          "model_module": "@jupyter-widgets/base",
          "model_name": "LayoutModel",
          "state": {
            "_view_name": "LayoutView",
            "grid_template_rows": null,
            "right": null,
            "justify_content": null,
            "_view_module": "@jupyter-widgets/base",
            "overflow": null,
            "_model_module_version": "1.2.0",
            "_view_count": null,
            "flex_flow": null,
            "width": null,
            "min_width": null,
            "border": null,
            "align_items": null,
            "bottom": null,
            "_model_module": "@jupyter-widgets/base",
            "top": null,
            "grid_column": null,
            "overflow_y": null,
            "overflow_x": null,
            "grid_auto_flow": null,
            "grid_area": null,
            "grid_template_columns": null,
            "flex": null,
            "_model_name": "LayoutModel",
            "justify_items": null,
            "grid_row": null,
            "max_height": null,
            "align_content": null,
            "visibility": null,
            "align_self": null,
            "height": null,
            "min_height": null,
            "padding": null,
            "grid_auto_rows": null,
            "grid_gap": null,
            "max_width": null,
            "order": null,
            "_view_module_version": "1.2.0",
            "grid_template_areas": null,
            "object_position": null,
            "object_fit": null,
            "grid_auto_columns": null,
            "margin": null,
            "display": null,
            "left": null
          }
        },
        "b2f7192bd154408b98e7651579ad5610": {
          "model_module": "@jupyter-widgets/controls",
          "model_name": "FloatProgressModel",
          "state": {
            "_view_name": "ProgressView",
            "style": "IPY_MODEL_efdb7e449ac341bb9ccfaef177e77eee",
            "_dom_classes": [],
            "description": "Downloading: 100%",
            "_model_name": "FloatProgressModel",
            "bar_style": "success",
            "max": 295668957,
            "_view_module": "@jupyter-widgets/controls",
            "_model_module_version": "1.5.0",
            "value": 295668957,
            "_view_count": null,
            "_view_module_version": "1.5.0",
            "orientation": "horizontal",
            "min": 0,
            "description_tooltip": null,
            "_model_module": "@jupyter-widgets/controls",
            "layout": "IPY_MODEL_e14ff0cf932841749b854ec557255324"
          }
        },
        "47485b0fb2d545b2b7ec8c4ce0145a4a": {
          "model_module": "@jupyter-widgets/controls",
          "model_name": "HTMLModel",
          "state": {
            "_view_name": "HTMLView",
            "style": "IPY_MODEL_62cb223626fb4a5bb564bc8729fc0ae9",
            "_dom_classes": [],
            "description": "",
            "_model_name": "HTMLModel",
            "placeholder": "​",
            "_view_module": "@jupyter-widgets/controls",
            "_model_module_version": "1.5.0",
            "value": " 296M/296M [00:15&lt;00:00, 18.8MB/s]",
            "_view_count": null,
            "_view_module_version": "1.5.0",
            "description_tooltip": null,
            "_model_module": "@jupyter-widgets/controls",
            "layout": "IPY_MODEL_16cf6e9e25a64624964ce5d501221dbe"
          }
        },
        "efdb7e449ac341bb9ccfaef177e77eee": {
          "model_module": "@jupyter-widgets/controls",
          "model_name": "ProgressStyleModel",
          "state": {
            "_view_name": "StyleView",
            "_model_name": "ProgressStyleModel",
            "description_width": "initial",
            "_view_module": "@jupyter-widgets/base",
            "_model_module_version": "1.5.0",
            "_view_count": null,
            "_view_module_version": "1.2.0",
            "bar_color": null,
            "_model_module": "@jupyter-widgets/controls"
          }
        },
        "e14ff0cf932841749b854ec557255324": {
          "model_module": "@jupyter-widgets/base",
          "model_name": "LayoutModel",
          "state": {
            "_view_name": "LayoutView",
            "grid_template_rows": null,
            "right": null,
            "justify_content": null,
            "_view_module": "@jupyter-widgets/base",
            "overflow": null,
            "_model_module_version": "1.2.0",
            "_view_count": null,
            "flex_flow": null,
            "width": null,
            "min_width": null,
            "border": null,
            "align_items": null,
            "bottom": null,
            "_model_module": "@jupyter-widgets/base",
            "top": null,
            "grid_column": null,
            "overflow_y": null,
            "overflow_x": null,
            "grid_auto_flow": null,
            "grid_area": null,
            "grid_template_columns": null,
            "flex": null,
            "_model_name": "LayoutModel",
            "justify_items": null,
            "grid_row": null,
            "max_height": null,
            "align_content": null,
            "visibility": null,
            "align_self": null,
            "height": null,
            "min_height": null,
            "padding": null,
            "grid_auto_rows": null,
            "grid_gap": null,
            "max_width": null,
            "order": null,
            "_view_module_version": "1.2.0",
            "grid_template_areas": null,
            "object_position": null,
            "object_fit": null,
            "grid_auto_columns": null,
            "margin": null,
            "display": null,
            "left": null
          }
        },
        "62cb223626fb4a5bb564bc8729fc0ae9": {
          "model_module": "@jupyter-widgets/controls",
          "model_name": "DescriptionStyleModel",
          "state": {
            "_view_name": "StyleView",
            "_model_name": "DescriptionStyleModel",
            "description_width": "",
            "_view_module": "@jupyter-widgets/base",
            "_model_module_version": "1.5.0",
            "_view_count": null,
            "_view_module_version": "1.2.0",
            "_model_module": "@jupyter-widgets/controls"
          }
        },
        "16cf6e9e25a64624964ce5d501221dbe": {
          "model_module": "@jupyter-widgets/base",
          "model_name": "LayoutModel",
          "state": {
            "_view_name": "LayoutView",
            "grid_template_rows": null,
            "right": null,
            "justify_content": null,
            "_view_module": "@jupyter-widgets/base",
            "overflow": null,
            "_model_module_version": "1.2.0",
            "_view_count": null,
            "flex_flow": null,
            "width": null,
            "min_width": null,
            "border": null,
            "align_items": null,
            "bottom": null,
            "_model_module": "@jupyter-widgets/base",
            "top": null,
            "grid_column": null,
            "overflow_y": null,
            "overflow_x": null,
            "grid_auto_flow": null,
            "grid_area": null,
            "grid_template_columns": null,
            "flex": null,
            "_model_name": "LayoutModel",
            "justify_items": null,
            "grid_row": null,
            "max_height": null,
            "align_content": null,
            "visibility": null,
            "align_self": null,
            "height": null,
            "min_height": null,
            "padding": null,
            "grid_auto_rows": null,
            "grid_gap": null,
            "max_width": null,
            "order": null,
            "_view_module_version": "1.2.0",
            "grid_template_areas": null,
            "object_position": null,
            "object_fit": null,
            "grid_auto_columns": null,
            "margin": null,
            "display": null,
            "left": null
          }
        }
      }
    }
  },
  "cells": [
    {
      "cell_type": "code",
      "metadata": {
        "colab": {
          "base_uri": "https://localhost:8080/"
        },
        "id": "Yr7_xzPVAeCy",
        "outputId": "02fcfe9f-b801-448c-f587-4f158a4c2b23"
      },
      "source": [
        "from google.colab import drive\n",
        "drive.mount('/content/drive')"
      ],
      "execution_count": 1,
      "outputs": [
        {
          "output_type": "stream",
          "text": [
            "Mounted at /content/drive\n"
          ],
          "name": "stdout"
        }
      ]
    },
    {
      "cell_type": "code",
      "metadata": {
        "id": "ixVRbTw9lbyx",
        "colab": {
          "base_uri": "https://localhost:8080/"
        },
        "outputId": "d9711435-7251-495e-f873-a7e83d417d6d"
      },
      "source": [
        "!pip install sentencepiece\r\n",
        "!pip install torch\r\n",
        "!pip install transformers\r\n"
      ],
      "execution_count": 2,
      "outputs": [
        {
          "output_type": "stream",
          "text": [
            "Collecting sentencepiece\n",
            "\u001b[?25l  Downloading https://files.pythonhosted.org/packages/14/67/e42bd1181472c95c8cda79305df848264f2a7f62740995a46945d9797b67/sentencepiece-0.1.95-cp36-cp36m-manylinux2014_x86_64.whl (1.2MB)\n",
            "\r\u001b[K     |▎                               | 10kB 21.8MB/s eta 0:00:01\r\u001b[K     |▌                               | 20kB 15.0MB/s eta 0:00:01\r\u001b[K     |▉                               | 30kB 11.4MB/s eta 0:00:01\r\u001b[K     |█                               | 40kB 9.1MB/s eta 0:00:01\r\u001b[K     |█▍                              | 51kB 7.6MB/s eta 0:00:01\r\u001b[K     |█▋                              | 61kB 8.0MB/s eta 0:00:01\r\u001b[K     |██                              | 71kB 8.4MB/s eta 0:00:01\r\u001b[K     |██▏                             | 81kB 8.7MB/s eta 0:00:01\r\u001b[K     |██▌                             | 92kB 8.8MB/s eta 0:00:01\r\u001b[K     |██▊                             | 102kB 8.4MB/s eta 0:00:01\r\u001b[K     |███                             | 112kB 8.4MB/s eta 0:00:01\r\u001b[K     |███▎                            | 122kB 8.4MB/s eta 0:00:01\r\u001b[K     |███▌                            | 133kB 8.4MB/s eta 0:00:01\r\u001b[K     |███▉                            | 143kB 8.4MB/s eta 0:00:01\r\u001b[K     |████                            | 153kB 8.4MB/s eta 0:00:01\r\u001b[K     |████▍                           | 163kB 8.4MB/s eta 0:00:01\r\u001b[K     |████▋                           | 174kB 8.4MB/s eta 0:00:01\r\u001b[K     |█████                           | 184kB 8.4MB/s eta 0:00:01\r\u001b[K     |█████▏                          | 194kB 8.4MB/s eta 0:00:01\r\u001b[K     |█████▌                          | 204kB 8.4MB/s eta 0:00:01\r\u001b[K     |█████▊                          | 215kB 8.4MB/s eta 0:00:01\r\u001b[K     |██████                          | 225kB 8.4MB/s eta 0:00:01\r\u001b[K     |██████▎                         | 235kB 8.4MB/s eta 0:00:01\r\u001b[K     |██████▌                         | 245kB 8.4MB/s eta 0:00:01\r\u001b[K     |██████▉                         | 256kB 8.4MB/s eta 0:00:01\r\u001b[K     |███████                         | 266kB 8.4MB/s eta 0:00:01\r\u001b[K     |███████▍                        | 276kB 8.4MB/s eta 0:00:01\r\u001b[K     |███████▋                        | 286kB 8.4MB/s eta 0:00:01\r\u001b[K     |████████                        | 296kB 8.4MB/s eta 0:00:01\r\u001b[K     |████████▏                       | 307kB 8.4MB/s eta 0:00:01\r\u001b[K     |████████▍                       | 317kB 8.4MB/s eta 0:00:01\r\u001b[K     |████████▊                       | 327kB 8.4MB/s eta 0:00:01\r\u001b[K     |█████████                       | 337kB 8.4MB/s eta 0:00:01\r\u001b[K     |█████████▎                      | 348kB 8.4MB/s eta 0:00:01\r\u001b[K     |█████████▌                      | 358kB 8.4MB/s eta 0:00:01\r\u001b[K     |█████████▉                      | 368kB 8.4MB/s eta 0:00:01\r\u001b[K     |██████████                      | 378kB 8.4MB/s eta 0:00:01\r\u001b[K     |██████████▍                     | 389kB 8.4MB/s eta 0:00:01\r\u001b[K     |██████████▋                     | 399kB 8.4MB/s eta 0:00:01\r\u001b[K     |███████████                     | 409kB 8.4MB/s eta 0:00:01\r\u001b[K     |███████████▏                    | 419kB 8.4MB/s eta 0:00:01\r\u001b[K     |███████████▍                    | 430kB 8.4MB/s eta 0:00:01\r\u001b[K     |███████████▊                    | 440kB 8.4MB/s eta 0:00:01\r\u001b[K     |████████████                    | 450kB 8.4MB/s eta 0:00:01\r\u001b[K     |████████████▎                   | 460kB 8.4MB/s eta 0:00:01\r\u001b[K     |████████████▌                   | 471kB 8.4MB/s eta 0:00:01\r\u001b[K     |████████████▉                   | 481kB 8.4MB/s eta 0:00:01\r\u001b[K     |█████████████                   | 491kB 8.4MB/s eta 0:00:01\r\u001b[K     |█████████████▍                  | 501kB 8.4MB/s eta 0:00:01\r\u001b[K     |█████████████▋                  | 512kB 8.4MB/s eta 0:00:01\r\u001b[K     |█████████████▉                  | 522kB 8.4MB/s eta 0:00:01\r\u001b[K     |██████████████▏                 | 532kB 8.4MB/s eta 0:00:01\r\u001b[K     |██████████████▍                 | 542kB 8.4MB/s eta 0:00:01\r\u001b[K     |██████████████▊                 | 552kB 8.4MB/s eta 0:00:01\r\u001b[K     |███████████████                 | 563kB 8.4MB/s eta 0:00:01\r\u001b[K     |███████████████▎                | 573kB 8.4MB/s eta 0:00:01\r\u001b[K     |███████████████▌                | 583kB 8.4MB/s eta 0:00:01\r\u001b[K     |███████████████▉                | 593kB 8.4MB/s eta 0:00:01\r\u001b[K     |████████████████                | 604kB 8.4MB/s eta 0:00:01\r\u001b[K     |████████████████▍               | 614kB 8.4MB/s eta 0:00:01\r\u001b[K     |████████████████▋               | 624kB 8.4MB/s eta 0:00:01\r\u001b[K     |████████████████▉               | 634kB 8.4MB/s eta 0:00:01\r\u001b[K     |█████████████████▏              | 645kB 8.4MB/s eta 0:00:01\r\u001b[K     |█████████████████▍              | 655kB 8.4MB/s eta 0:00:01\r\u001b[K     |█████████████████▊              | 665kB 8.4MB/s eta 0:00:01\r\u001b[K     |██████████████████              | 675kB 8.4MB/s eta 0:00:01\r\u001b[K     |██████████████████▎             | 686kB 8.4MB/s eta 0:00:01\r\u001b[K     |██████████████████▌             | 696kB 8.4MB/s eta 0:00:01\r\u001b[K     |██████████████████▉             | 706kB 8.4MB/s eta 0:00:01\r\u001b[K     |███████████████████             | 716kB 8.4MB/s eta 0:00:01\r\u001b[K     |███████████████████▎            | 727kB 8.4MB/s eta 0:00:01\r\u001b[K     |███████████████████▋            | 737kB 8.4MB/s eta 0:00:01\r\u001b[K     |███████████████████▉            | 747kB 8.4MB/s eta 0:00:01\r\u001b[K     |████████████████████▏           | 757kB 8.4MB/s eta 0:00:01\r\u001b[K     |████████████████████▍           | 768kB 8.4MB/s eta 0:00:01\r\u001b[K     |████████████████████▊           | 778kB 8.4MB/s eta 0:00:01\r\u001b[K     |█████████████████████           | 788kB 8.4MB/s eta 0:00:01\r\u001b[K     |█████████████████████▎          | 798kB 8.4MB/s eta 0:00:01\r\u001b[K     |█████████████████████▌          | 808kB 8.4MB/s eta 0:00:01\r\u001b[K     |█████████████████████▉          | 819kB 8.4MB/s eta 0:00:01\r\u001b[K     |██████████████████████          | 829kB 8.4MB/s eta 0:00:01\r\u001b[K     |██████████████████████▎         | 839kB 8.4MB/s eta 0:00:01\r\u001b[K     |██████████████████████▋         | 849kB 8.4MB/s eta 0:00:01\r\u001b[K     |██████████████████████▉         | 860kB 8.4MB/s eta 0:00:01\r\u001b[K     |███████████████████████▏        | 870kB 8.4MB/s eta 0:00:01\r\u001b[K     |███████████████████████▍        | 880kB 8.4MB/s eta 0:00:01\r\u001b[K     |███████████████████████▊        | 890kB 8.4MB/s eta 0:00:01\r\u001b[K     |████████████████████████        | 901kB 8.4MB/s eta 0:00:01\r\u001b[K     |████████████████████████▎       | 911kB 8.4MB/s eta 0:00:01\r\u001b[K     |████████████████████████▌       | 921kB 8.4MB/s eta 0:00:01\r\u001b[K     |████████████████████████▊       | 931kB 8.4MB/s eta 0:00:01\r\u001b[K     |█████████████████████████       | 942kB 8.4MB/s eta 0:00:01\r\u001b[K     |█████████████████████████▎      | 952kB 8.4MB/s eta 0:00:01\r\u001b[K     |█████████████████████████▋      | 962kB 8.4MB/s eta 0:00:01\r\u001b[K     |█████████████████████████▉      | 972kB 8.4MB/s eta 0:00:01\r\u001b[K     |██████████████████████████▏     | 983kB 8.4MB/s eta 0:00:01\r\u001b[K     |██████████████████████████▍     | 993kB 8.4MB/s eta 0:00:01\r\u001b[K     |██████████████████████████▊     | 1.0MB 8.4MB/s eta 0:00:01\r\u001b[K     |███████████████████████████     | 1.0MB 8.4MB/s eta 0:00:01\r\u001b[K     |███████████████████████████▎    | 1.0MB 8.4MB/s eta 0:00:01\r\u001b[K     |███████████████████████████▌    | 1.0MB 8.4MB/s eta 0:00:01\r\u001b[K     |███████████████████████████▊    | 1.0MB 8.4MB/s eta 0:00:01\r\u001b[K     |████████████████████████████    | 1.1MB 8.4MB/s eta 0:00:01\r\u001b[K     |████████████████████████████▎   | 1.1MB 8.4MB/s eta 0:00:01\r\u001b[K     |████████████████████████████▋   | 1.1MB 8.4MB/s eta 0:00:01\r\u001b[K     |████████████████████████████▉   | 1.1MB 8.4MB/s eta 0:00:01\r\u001b[K     |█████████████████████████████▏  | 1.1MB 8.4MB/s eta 0:00:01\r\u001b[K     |█████████████████████████████▍  | 1.1MB 8.4MB/s eta 0:00:01\r\u001b[K     |█████████████████████████████▊  | 1.1MB 8.4MB/s eta 0:00:01\r\u001b[K     |██████████████████████████████  | 1.1MB 8.4MB/s eta 0:00:01\r\u001b[K     |██████████████████████████████▏ | 1.1MB 8.4MB/s eta 0:00:01\r\u001b[K     |██████████████████████████████▌ | 1.1MB 8.4MB/s eta 0:00:01\r\u001b[K     |██████████████████████████████▊ | 1.2MB 8.4MB/s eta 0:00:01\r\u001b[K     |███████████████████████████████ | 1.2MB 8.4MB/s eta 0:00:01\r\u001b[K     |███████████████████████████████▎| 1.2MB 8.4MB/s eta 0:00:01\r\u001b[K     |███████████████████████████████▋| 1.2MB 8.4MB/s eta 0:00:01\r\u001b[K     |███████████████████████████████▉| 1.2MB 8.4MB/s eta 0:00:01\r\u001b[K     |████████████████████████████████| 1.2MB 8.4MB/s \n",
            "\u001b[?25hInstalling collected packages: sentencepiece\n",
            "Successfully installed sentencepiece-0.1.95\n",
            "Requirement already satisfied: torch in /usr/local/lib/python3.6/dist-packages (1.7.0+cu101)\n",
            "Requirement already satisfied: typing-extensions in /usr/local/lib/python3.6/dist-packages (from torch) (3.7.4.3)\n",
            "Requirement already satisfied: dataclasses in /usr/local/lib/python3.6/dist-packages (from torch) (0.8)\n",
            "Requirement already satisfied: future in /usr/local/lib/python3.6/dist-packages (from torch) (0.16.0)\n",
            "Requirement already satisfied: numpy in /usr/local/lib/python3.6/dist-packages (from torch) (1.19.5)\n",
            "Collecting transformers\n",
            "\u001b[?25l  Downloading https://files.pythonhosted.org/packages/88/b1/41130a228dd656a1a31ba281598a968320283f48d42782845f6ba567f00b/transformers-4.2.2-py3-none-any.whl (1.8MB)\n",
            "\u001b[K     |████████████████████████████████| 1.8MB 7.3MB/s \n",
            "\u001b[?25hCollecting tokenizers==0.9.4\n",
            "\u001b[?25l  Downloading https://files.pythonhosted.org/packages/0f/1c/e789a8b12e28be5bc1ce2156cf87cb522b379be9cadc7ad8091a4cc107c4/tokenizers-0.9.4-cp36-cp36m-manylinux2010_x86_64.whl (2.9MB)\n",
            "\u001b[K     |████████████████████████████████| 2.9MB 35.8MB/s \n",
            "\u001b[?25hRequirement already satisfied: dataclasses; python_version < \"3.7\" in /usr/local/lib/python3.6/dist-packages (from transformers) (0.8)\n",
            "Requirement already satisfied: regex!=2019.12.17 in /usr/local/lib/python3.6/dist-packages (from transformers) (2019.12.20)\n",
            "Collecting sacremoses\n",
            "\u001b[?25l  Downloading https://files.pythonhosted.org/packages/7d/34/09d19aff26edcc8eb2a01bed8e98f13a1537005d31e95233fd48216eed10/sacremoses-0.0.43.tar.gz (883kB)\n",
            "\u001b[K     |████████████████████████████████| 890kB 50.7MB/s \n",
            "\u001b[?25hRequirement already satisfied: numpy in /usr/local/lib/python3.6/dist-packages (from transformers) (1.19.5)\n",
            "Requirement already satisfied: requests in /usr/local/lib/python3.6/dist-packages (from transformers) (2.23.0)\n",
            "Requirement already satisfied: tqdm>=4.27 in /usr/local/lib/python3.6/dist-packages (from transformers) (4.41.1)\n",
            "Requirement already satisfied: importlib-metadata; python_version < \"3.8\" in /usr/local/lib/python3.6/dist-packages (from transformers) (3.3.0)\n",
            "Requirement already satisfied: packaging in /usr/local/lib/python3.6/dist-packages (from transformers) (20.8)\n",
            "Requirement already satisfied: filelock in /usr/local/lib/python3.6/dist-packages (from transformers) (3.0.12)\n",
            "Requirement already satisfied: six in /usr/local/lib/python3.6/dist-packages (from sacremoses->transformers) (1.15.0)\n",
            "Requirement already satisfied: click in /usr/local/lib/python3.6/dist-packages (from sacremoses->transformers) (7.1.2)\n",
            "Requirement already satisfied: joblib in /usr/local/lib/python3.6/dist-packages (from sacremoses->transformers) (1.0.0)\n",
            "Requirement already satisfied: certifi>=2017.4.17 in /usr/local/lib/python3.6/dist-packages (from requests->transformers) (2020.12.5)\n",
            "Requirement already satisfied: chardet<4,>=3.0.2 in /usr/local/lib/python3.6/dist-packages (from requests->transformers) (3.0.4)\n",
            "Requirement already satisfied: idna<3,>=2.5 in /usr/local/lib/python3.6/dist-packages (from requests->transformers) (2.10)\n",
            "Requirement already satisfied: urllib3!=1.25.0,!=1.25.1,<1.26,>=1.21.1 in /usr/local/lib/python3.6/dist-packages (from requests->transformers) (1.24.3)\n",
            "Requirement already satisfied: zipp>=0.5 in /usr/local/lib/python3.6/dist-packages (from importlib-metadata; python_version < \"3.8\"->transformers) (3.4.0)\n",
            "Requirement already satisfied: typing-extensions>=3.6.4; python_version < \"3.8\" in /usr/local/lib/python3.6/dist-packages (from importlib-metadata; python_version < \"3.8\"->transformers) (3.7.4.3)\n",
            "Requirement already satisfied: pyparsing>=2.0.2 in /usr/local/lib/python3.6/dist-packages (from packaging->transformers) (2.4.7)\n",
            "Building wheels for collected packages: sacremoses\n",
            "  Building wheel for sacremoses (setup.py) ... \u001b[?25l\u001b[?25hdone\n",
            "  Created wheel for sacremoses: filename=sacremoses-0.0.43-cp36-none-any.whl size=893261 sha256=dd7100e12d77d370931292e5bfe6493d43f0668a0f227d32afb7ee191b09cb97\n",
            "  Stored in directory: /root/.cache/pip/wheels/29/3c/fd/7ce5c3f0666dab31a50123635e6fb5e19ceb42ce38d4e58f45\n",
            "Successfully built sacremoses\n",
            "Installing collected packages: tokenizers, sacremoses, transformers\n",
            "Successfully installed sacremoses-0.0.43 tokenizers-0.9.4 transformers-4.2.2\n"
          ],
          "name": "stdout"
        }
      ]
    },
    {
      "cell_type": "code",
      "metadata": {
        "id": "I3HNNO3gjDN_",
        "colab": {
          "base_uri": "https://localhost:8080/",
          "height": 311,
          "referenced_widgets": [
            "19a8a2c394654e80996e9709904ad8fb",
            "2a2eb49d590148f5b1405c5f7576c6e0",
            "81eef7d6ac0d4659821ac1f21c066177",
            "e7785b26e74349c08c47b8f3baa12032",
            "77ae40a26a8f42019a5e5eeac7dad008",
            "e8544404a510463782090ea94e2f343e",
            "fe8b41121bf3409d85d70ae555e25749",
            "69d899ba6a584668aa99e0a83da814b6",
            "fe50387c611748cfb4b0c6ba2e397681",
            "50ae8ede0fc64c249f4cb254c1e7dc81",
            "e48a826cc8a14761ab6fb619d9807258",
            "c623565447a54ee49d8c0093f3fe1885",
            "f0db0bd04a244d88a1705426e627b7ef",
            "8a484387ca504bffafc4042cc13e749e",
            "3ddbb0632d4d42948c91d0de0c429a0f",
            "c7ff0d31b5be4959867ac5c7ead07b25",
            "39275631c6874f4784efe06e94572ece",
            "1bcc13190e3748948c6924147058af93",
            "a4761b4dfa814a59b3c7abfc1913fa59",
            "a662ab1d0ce247678f9e68f780ae7abb",
            "8c2ce19d6ed44737b0b38cbd8a5c8039",
            "bae34b9e6aa94b0f8687304b0a41eadf",
            "a17baee9418b46519d901249b16dd98d",
            "fd5a6eb1f40840c7b911248efb6d51bb",
            "1bae56cd3dcd4e7fa36653e246958821",
            "674c7806ddea435f968212aae0f530b3",
            "68f5c72e9c93499ebe460c3f2012c2ba",
            "ab659e32cbbb43b7b2b3856541926d49",
            "ae571d46276743e7af80954a20a4eb7f",
            "3e0fa115c9de4929b095a46c58936026",
            "69f82351c199411d8358bb2a3b85d5de",
            "5020334e694247b2ae305b6f31243197",
            "98455ab228204c09bdc262c82b4eb782",
            "3b1c2e9937f34f64ad16b89d4a9343ec",
            "727a413260ad47f190a483a9da362d1d",
            "b14584e6639748d58330923c22a0dddb",
            "4d6754a54a3941e5a48c3ac6cd3fede8",
            "0dcdfd04f11c456b9e542a45912b7097",
            "768ff559b7e94e278bcfdc248dcfa710",
            "b3bfa58d54f3475b84849f89c75b4e94",
            "d9b76edb78a049c7b3aa2f3b9c53cca5",
            "d2ae26a4a4714b819dc4b5b59b1e2247",
            "b2f7192bd154408b98e7651579ad5610",
            "47485b0fb2d545b2b7ec8c4ce0145a4a",
            "efdb7e449ac341bb9ccfaef177e77eee",
            "e14ff0cf932841749b854ec557255324",
            "62cb223626fb4a5bb564bc8729fc0ae9",
            "16cf6e9e25a64624964ce5d501221dbe"
          ]
        },
        "outputId": "4197761e-936c-474e-d2e5-b9ee48a5a1bc"
      },
      "source": [
        "#import pretrained models \n",
        "from transformers import AutoTokenizer, AutoModelWithLMHead, AutoModelForSeq2SeqLM\n",
        "tokenizer = AutoTokenizer.from_pretrained(\"Helsinki-NLP/opus-mt-en-tw\")\n",
        "#model = AutoModelWithLMHead.from_pretrained(\"Helsinki-NLP/opus-mt-en-tw\")\n",
        "model = AutoModelForSeq2SeqLM.from_pretrained(\"Helsinki-NLP/opus-mt-en-tw\")"
      ],
      "execution_count": 3,
      "outputs": [
        {
          "output_type": "display_data",
          "data": {
            "application/vnd.jupyter.widget-view+json": {
              "model_id": "19a8a2c394654e80996e9709904ad8fb",
              "version_minor": 0,
              "version_major": 2
            },
            "text/plain": [
              "HBox(children=(FloatProgress(value=0.0, description='Downloading', max=1132.0, style=ProgressStyle(description…"
            ]
          },
          "metadata": {
            "tags": []
          }
        },
        {
          "output_type": "stream",
          "text": [
            "\n"
          ],
          "name": "stdout"
        },
        {
          "output_type": "display_data",
          "data": {
            "application/vnd.jupyter.widget-view+json": {
              "model_id": "fe50387c611748cfb4b0c6ba2e397681",
              "version_minor": 0,
              "version_major": 2
            },
            "text/plain": [
              "HBox(children=(FloatProgress(value=0.0, description='Downloading', max=822549.0, style=ProgressStyle(descripti…"
            ]
          },
          "metadata": {
            "tags": []
          }
        },
        {
          "output_type": "stream",
          "text": [
            "\n"
          ],
          "name": "stdout"
        },
        {
          "output_type": "display_data",
          "data": {
            "application/vnd.jupyter.widget-view+json": {
              "model_id": "39275631c6874f4784efe06e94572ece",
              "version_minor": 0,
              "version_major": 2
            },
            "text/plain": [
              "HBox(children=(FloatProgress(value=0.0, description='Downloading', max=788340.0, style=ProgressStyle(descripti…"
            ]
          },
          "metadata": {
            "tags": []
          }
        },
        {
          "output_type": "stream",
          "text": [
            "\n"
          ],
          "name": "stdout"
        },
        {
          "output_type": "display_data",
          "data": {
            "application/vnd.jupyter.widget-view+json": {
              "model_id": "1bae56cd3dcd4e7fa36653e246958821",
              "version_minor": 0,
              "version_major": 2
            },
            "text/plain": [
              "HBox(children=(FloatProgress(value=0.0, description='Downloading', max=1305726.0, style=ProgressStyle(descript…"
            ]
          },
          "metadata": {
            "tags": []
          }
        },
        {
          "output_type": "stream",
          "text": [
            "\n"
          ],
          "name": "stdout"
        },
        {
          "output_type": "display_data",
          "data": {
            "application/vnd.jupyter.widget-view+json": {
              "model_id": "98455ab228204c09bdc262c82b4eb782",
              "version_minor": 0,
              "version_major": 2
            },
            "text/plain": [
              "HBox(children=(FloatProgress(value=0.0, description='Downloading', max=42.0, style=ProgressStyle(description_w…"
            ]
          },
          "metadata": {
            "tags": []
          }
        },
        {
          "output_type": "stream",
          "text": [
            "\n"
          ],
          "name": "stdout"
        },
        {
          "output_type": "display_data",
          "data": {
            "application/vnd.jupyter.widget-view+json": {
              "model_id": "d9b76edb78a049c7b3aa2f3b9c53cca5",
              "version_minor": 0,
              "version_major": 2
            },
            "text/plain": [
              "HBox(children=(FloatProgress(value=0.0, description='Downloading', max=295668957.0, style=ProgressStyle(descri…"
            ]
          },
          "metadata": {
            "tags": []
          }
        },
        {
          "output_type": "stream",
          "text": [
            "\n"
          ],
          "name": "stdout"
        }
      ]
    },
    {
      "cell_type": "code",
      "metadata": {
        "id": "o0llaXGTjDOJ"
      },
      "source": [
        "#import further libraries that will be needed\n",
        "import nltk\n",
        "from nltk.translate.bleu_score import SmoothingFunction\n",
        "import pandas as pd"
      ],
      "execution_count": 4,
      "outputs": []
    },
    {
      "cell_type": "code",
      "metadata": {
        "id": "I0VD7RqfjDOK"
      },
      "source": [
        "def translate(input_sentence, model=model, **kwargs):\n",
        "    \"\"\"\n",
        "    Translate the sentence to the target language using the provided model and any keyword arguments provided.\n",
        "    input_sentence: List of sentences\n",
        "    model: model to use for the translation.\n",
        "    \n",
        "    Returns:\n",
        "    List of corresponding translations for the target language\n",
        "    \"\"\"\n",
        "\n",
        "    input_id = tokenizer.encode(input_sentence, return_tensors=\"pt\")\n",
        "    beam_output = model.generate(input_id,  **kwargs)\n",
        "    return tokenizer.decode(beam_output[0], skip_special_tokens=True)"
      ],
      "execution_count": 5,
      "outputs": []
    },
    {
      "cell_type": "code",
      "metadata": {
        "id": "K3B-NY_xphQC"
      },
      "source": [
        "def bleuscore_dataframe(dataframe, weights=(0.85,0.15,0,0), smoothFn=None,auto_reweigh=False):\r\n",
        "    \"\"\"\r\n",
        "    compute the bleu score of an entire dataframe dataframe should have a predictions and \r\n",
        "    references column\r\n",
        "    dataframe: pd.DataFrame - should have \"predictions\" and \"references\" columns\r\n",
        "    weights is a 4-tuple summing up to 1. indicates weights for unigrams, bigrams etc\r\n",
        "    smoothFn:int {0,7}. refer to nltk API for details\r\n",
        "    \"\"\"\r\n",
        "    preds = []\r\n",
        "    for line in dataframe['predictions'].values.tolist(): \r\n",
        "        line_clean = line.strip().split()\r\n",
        "        preds.append(line_clean)\r\n",
        "    refs = []\r\n",
        "    for line in dataframe[\"references\"].values.tolist(): \r\n",
        "        line_clean = str(line).strip().split()\r\n",
        "        refs.append(line_clean)\r\n",
        "    refs_2 = [list([(item)]) for item in refs]  # putting it in a form for the nltk bleu method\r\n",
        "    if smoothFn in range(8):\r\n",
        "        smoothFunc = SmoothingFunction()\r\n",
        "        smoothFunc = eval(f\"smoothFunc.method{smoothFn}\")\r\n",
        "    else:\r\n",
        "        smoothFunc = smoothFn\r\n",
        "    BLEUscore = nltk.translate.bleu_score.corpus_bleu(refs_2, preds, weights=weights,\r\n",
        "                                                      smoothing_function=smoothFunc,auto_reweigh=auto_reweigh)\r\n",
        "    return BLEUscore"
      ],
      "execution_count": 6,
      "outputs": []
    },
    {
      "cell_type": "code",
      "metadata": {
        "id": "u60qbRaojDOK"
      },
      "source": [
        "#read the parrarel dataset to be used for checking scores\n",
        "pairs = pd.read_csv(\"/content/drive/My Drive/GhanaNLP/DATA/GhanaNLP_data_001.csv\")"
      ],
      "execution_count": 29,
      "outputs": []
    },
    {
      "cell_type": "code",
      "metadata": {
        "colab": {
          "base_uri": "https://localhost:8080/"
        },
        "id": "zXwb0VJQLV2S",
        "outputId": "8a0948dd-89d4-4f99-8724-570a0c17d4bc"
      },
      "source": [
        "#remove rows with empty references\r\n",
        "print(\"totals records in dataset BEFORE removing empty rows {}\".format(pairs.shape[0]))\r\n",
        "pairs.dropna(inplace=True)\r\n",
        "print(\"totals records in dataset AFTER removing empty rows {}\".format(pairs.shape[0]))"
      ],
      "execution_count": 31,
      "outputs": [
        {
          "output_type": "stream",
          "text": [
            "totals records in dataset BEFORE removing empty rows 695\n",
            "totals records in dataset AFTER removing empty rows 695\n"
          ],
          "name": "stdout"
        }
      ]
    },
    {
      "cell_type": "code",
      "metadata": {
        "id": "Z2bP99M3zf-D"
      },
      "source": [
        "def predict_sample_sentences(parallel_sentences, sample_size=100):\r\n",
        "  \"\"\"\r\n",
        "    Takes a dataframe of parrarel eng-twi sentences and translate the english sentences to target language\r\n",
        "\r\n",
        "\r\n",
        "    parallel_sentences: pd.DataFrame - should have \"English\" and \"references\" columns with \"English\" sentences in column index 0 and \"references in col index 1\r\n",
        "    sample_size : number of sentences in the dataframe to translate, default is 100 sentences\r\n",
        "    \r\n",
        "    Return:\r\n",
        "    Returns a dataframe with a third column \"Predictions\" added which contain the translated sentences\r\n",
        "    \"\"\"\r\n",
        "\r\n",
        "  test_pairs = parallel_sentences.sample(sample_size)\r\n",
        "  test_pairs.columns= [\"English\", \"references\"]\r\n",
        "  test_pairs[\"predictions\"] = test_pairs[\"English\"].apply(translate)\r\n",
        "  return test_pairs"
      ],
      "execution_count": 8,
      "outputs": []
    },
    {
      "cell_type": "code",
      "metadata": {
        "id": "6sxFJQVU1Sb7"
      },
      "source": [
        "#translate some sample sentences\r\n",
        "sample_test_pairs = predict_sample_sentences(pairs,sample_size=pairs.shape[0])"
      ],
      "execution_count": 32,
      "outputs": []
    },
    {
      "cell_type": "code",
      "metadata": {
        "colab": {
          "base_uri": "https://localhost:8080/",
          "height": 142
        },
        "id": "fUlnBCs5LoQf",
        "outputId": "2f5db6e2-9e02-4a90-9870-f7f955465566"
      },
      "source": [
        "#check that all references have predictions\r\n",
        "sample_test_pairs.describe().T"
      ],
      "execution_count": 42,
      "outputs": [
        {
          "output_type": "execute_result",
          "data": {
            "text/html": [
              "<div>\n",
              "<style scoped>\n",
              "    .dataframe tbody tr th:only-of-type {\n",
              "        vertical-align: middle;\n",
              "    }\n",
              "\n",
              "    .dataframe tbody tr th {\n",
              "        vertical-align: top;\n",
              "    }\n",
              "\n",
              "    .dataframe thead th {\n",
              "        text-align: right;\n",
              "    }\n",
              "</style>\n",
              "<table border=\"1\" class=\"dataframe\">\n",
              "  <thead>\n",
              "    <tr style=\"text-align: right;\">\n",
              "      <th></th>\n",
              "      <th>count</th>\n",
              "      <th>unique</th>\n",
              "      <th>top</th>\n",
              "      <th>freq</th>\n",
              "    </tr>\n",
              "  </thead>\n",
              "  <tbody>\n",
              "    <tr>\n",
              "      <th>English</th>\n",
              "      <td>695</td>\n",
              "      <td>664</td>\n",
              "      <td>How are you?</td>\n",
              "      <td>6</td>\n",
              "    </tr>\n",
              "    <tr>\n",
              "      <th>references</th>\n",
              "      <td>695</td>\n",
              "      <td>668</td>\n",
              "      <td>Me dɔ wo</td>\n",
              "      <td>4</td>\n",
              "    </tr>\n",
              "    <tr>\n",
              "      <th>predictions</th>\n",
              "      <td>695</td>\n",
              "      <td>647</td>\n",
              "      <td>Wo ho te dɛn?</td>\n",
              "      <td>8</td>\n",
              "    </tr>\n",
              "  </tbody>\n",
              "</table>\n",
              "</div>"
            ],
            "text/plain": [
              "            count unique            top freq\n",
              "English       695    664   How are you?    6\n",
              "references    695    668       Me dɔ wo    4\n",
              "predictions   695    647  Wo ho te dɛn?    8"
            ]
          },
          "metadata": {
            "tags": []
          },
          "execution_count": 42
        }
      ]
    },
    {
      "cell_type": "code",
      "metadata": {
        "colab": {
          "base_uri": "https://localhost:8080/",
          "height": 235
        },
        "id": "SVqwL-AH10sh",
        "outputId": "185b43cd-f639-4c8e-845e-ae778bda93e9"
      },
      "source": [
        "#take a preview of 6 of the sentences\r\n",
        "sample_test_pairs.head(6)"
      ],
      "execution_count": 44,
      "outputs": [
        {
          "output_type": "execute_result",
          "data": {
            "text/html": [
              "<div>\n",
              "<style scoped>\n",
              "    .dataframe tbody tr th:only-of-type {\n",
              "        vertical-align: middle;\n",
              "    }\n",
              "\n",
              "    .dataframe tbody tr th {\n",
              "        vertical-align: top;\n",
              "    }\n",
              "\n",
              "    .dataframe thead th {\n",
              "        text-align: right;\n",
              "    }\n",
              "</style>\n",
              "<table border=\"1\" class=\"dataframe\">\n",
              "  <thead>\n",
              "    <tr style=\"text-align: right;\">\n",
              "      <th></th>\n",
              "      <th>English</th>\n",
              "      <th>references</th>\n",
              "      <th>predictions</th>\n",
              "    </tr>\n",
              "  </thead>\n",
              "  <tbody>\n",
              "    <tr>\n",
              "      <th>39</th>\n",
              "      <td>God’s Grace</td>\n",
              "      <td>Onyame adom</td>\n",
              "      <td>Onyankopɔn De Ne Ho Gye Mu</td>\n",
              "    </tr>\n",
              "    <tr>\n",
              "      <th>667</th>\n",
              "      <td>Please tell me where the bus stop is.</td>\n",
              "      <td>Mepa wo kyɛw kyerɛ me baabi a wɔfa kai no</td>\n",
              "      <td>Mesrɛ wo ka baabi a bɔs gyinabea no wɔ kyerɛ me.</td>\n",
              "    </tr>\n",
              "    <tr>\n",
              "      <th>48</th>\n",
              "      <td>Come home.</td>\n",
              "      <td>Bra fie.</td>\n",
              "      <td>Bra fie.</td>\n",
              "    </tr>\n",
              "    <tr>\n",
              "      <th>456</th>\n",
              "      <td>He carved a Buddhist image out of wood.</td>\n",
              "      <td>ɔde dua no nwenee Budhafoɔ mfoni.</td>\n",
              "      <td>Ɔde dua yɛɛ Buddhafo honi.</td>\n",
              "    </tr>\n",
              "    <tr>\n",
              "      <th>420</th>\n",
              "      <td>I thought Kwaku needed help.</td>\n",
              "      <td>Na mefiri sɛ, Kwaku hia mmoa.</td>\n",
              "      <td>Ná misusuw sɛ Kwaku hia mmoa.</td>\n",
              "    </tr>\n",
              "    <tr>\n",
              "      <th>0</th>\n",
              "      <td>What is going on here?</td>\n",
              "      <td>Ɛdeɛn na  ɛrekɔso wɔ aha?</td>\n",
              "      <td>Dɛn na ɛrekɔ so wɔ ha?</td>\n",
              "    </tr>\n",
              "  </tbody>\n",
              "</table>\n",
              "</div>"
            ],
            "text/plain": [
              "                                     English  ...                                       predictions\n",
              "39                               God’s Grace  ...                        Onyankopɔn De Ne Ho Gye Mu\n",
              "667    Please tell me where the bus stop is.  ...  Mesrɛ wo ka baabi a bɔs gyinabea no wɔ kyerɛ me.\n",
              "48                                Come home.  ...                                          Bra fie.\n",
              "456  He carved a Buddhist image out of wood.  ...                        Ɔde dua yɛɛ Buddhafo honi.\n",
              "420             I thought Kwaku needed help.  ...                     Ná misusuw sɛ Kwaku hia mmoa.\n",
              "0                     What is going on here?  ...                            Dɛn na ɛrekɔ so wɔ ha?\n",
              "\n",
              "[6 rows x 3 columns]"
            ]
          },
          "metadata": {
            "tags": []
          },
          "execution_count": 44
        }
      ]
    },
    {
      "cell_type": "code",
      "metadata": {
        "id": "PEnOJ136jDOL",
        "colab": {
          "base_uri": "https://localhost:8080/"
        },
        "outputId": "95a29e19-3bfc-43a9-f07d-caaa8129783b"
      },
      "source": [
        "#check some sample bluescores with different paramaters\r\n",
        "#1. default bleu score weights on 4-grams with weights=(0.25,0.25,0.25,0.25) and no smoothing function and no auto_reweigh - Option to re-normalize the weights uniformly.\r\n",
        "bleuscore_dataframe(sample_test_pairs[[\"references\",\"predictions\"]])"
      ],
      "execution_count": 45,
      "outputs": [
        {
          "output_type": "execute_result",
          "data": {
            "text/plain": [
              "0.24937600624285972"
            ]
          },
          "metadata": {
            "tags": []
          },
          "execution_count": 45
        }
      ]
    },
    {
      "cell_type": "code",
      "metadata": {
        "colab": {
          "base_uri": "https://localhost:8080/"
        },
        "id": "3uxWGKVB5pwm",
        "outputId": "f5e7ed6e-e0e3-4a17-a4a6-eac14e0a4b0c"
      },
      "source": [
        "#2. put all emphasis on uni-grams (1.0)  and smoothing function of 7 and with auto_reweigh\r\n",
        "bleuscore_dataframe(sample_test_pairs[[\"references\",\"predictions\"]], weights=(1,0,0,0),smoothFn=7, auto_reweigh=True)"
      ],
      "execution_count": 46,
      "outputs": [
        {
          "output_type": "execute_result",
          "data": {
            "text/plain": [
              "0.5628157501706027"
            ]
          },
          "metadata": {
            "tags": []
          },
          "execution_count": 46
        }
      ]
    },
    {
      "cell_type": "code",
      "metadata": {
        "colab": {
          "base_uri": "https://localhost:8080/"
        },
        "id": "r3KhCdDl5-pY",
        "outputId": "b88c3f70-3444-474f-bd53-47bdd200d66e"
      },
      "source": [
        "#3. default bleu score weights on 4-grams with weights=(0.25,0.25,0.25,0.25)  and smoothing function of 7 and with auto_reweigh\r\n",
        "bleuscore_dataframe(sample_test_pairs[[\"references\",\"predictions\"]],smoothFn=7, auto_reweigh=True)"
      ],
      "execution_count": 47,
      "outputs": [
        {
          "output_type": "execute_result",
          "data": {
            "text/plain": [
              "0.49797381435055743"
            ]
          },
          "metadata": {
            "tags": []
          },
          "execution_count": 47
        }
      ]
    },
    {
      "cell_type": "code",
      "metadata": {
        "colab": {
          "base_uri": "https://localhost:8080/"
        },
        "id": "vbhrJui7PAE1",
        "outputId": "8657d16c-9e66-4c4d-d662-825e4f2377d7"
      },
      "source": [
        "#4. put some emphasis on the uni-gram with weights=(0.58,0,0,0)  and smoothing function of 7 and with auto_reweigh = True\r\n",
        "bleuscore_dataframe(sample_test_pairs[[\"references\",\"predictions\"]], weights=(0.58,0,0,0),smoothFn=7, auto_reweigh=True)"
      ],
      "execution_count": 49,
      "outputs": [
        {
          "output_type": "execute_result",
          "data": {
            "text/plain": [
              "0.7164937735242538"
            ]
          },
          "metadata": {
            "tags": []
          },
          "execution_count": 49
        }
      ]
    }
  ]
}